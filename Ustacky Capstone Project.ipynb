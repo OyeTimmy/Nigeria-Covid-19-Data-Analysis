{
 "cells": [
  {
   "cell_type": "code",
   "execution_count": 1,
   "metadata": {},
   "outputs": [],
   "source": [
    "import requests\n",
    "import  os\n",
    "import glob as glob\n",
    "import datetime as dt\n",
    "import numpy as np\n",
    "import urllib.request\n",
    "import pandas as pd\n",
    "import csv\n",
    "from bs4 import BeautifulSoup\n",
    "import seaborn as sns\n",
    "sns.set_style(\"darkgrid\")\n",
    "import matplotlib.pyplot as plt\n",
    "%matplotlib inline\n",
    "plt.style.use('fivethirtyeight')\n",
    "import warnings\n",
    "warnings.filterwarnings('ignore')"
   ]
  },
  {
   "cell_type": "code",
   "execution_count": 69,
   "metadata": {},
   "outputs": [],
   "source": [
    "os.chdir(\"C:/Users/gameon/Documents/Ustacky Assignment/Capstone Project/\")"
   ]
  },
  {
   "cell_type": "markdown",
   "metadata": {},
   "source": [
    "### A - NCDC Website Scrap"
   ]
  },
  {
   "cell_type": "code",
   "execution_count": 60,
   "metadata": {},
   "outputs": [],
   "source": [
    "Covid = pd.read_html('https://covid19.ncdc.gov.ng/', header=0)[0]"
   ]
  },
  {
   "cell_type": "markdown",
   "metadata": {},
   "source": [
    "### B - John Hopkins Data Repository"
   ]
  },
  {
   "cell_type": "code",
   "execution_count": 71,
   "metadata": {},
   "outputs": [],
   "source": [
    "Confirmed = pd.read_csv('time_series_covid19_confirmed_global.csv')"
   ]
  },
  {
   "cell_type": "code",
   "execution_count": 72,
   "metadata": {},
   "outputs": [],
   "source": [
    "Deaths = pd.read_csv('time_series_covid19_deaths_global.csv')"
   ]
  },
  {
   "cell_type": "code",
   "execution_count": 73,
   "metadata": {},
   "outputs": [],
   "source": [
    "Recovered = pd.read_csv('time_series_covid19_recovered_global.csv')"
   ]
  },
  {
   "cell_type": "code",
   "execution_count": 74,
   "metadata": {},
   "outputs": [],
   "source": [
    "Global_Data = pd.concat([Confirmed, Deaths, Recovered], keys=['Confirmed', 'Deaths', 'Recovered'])"
   ]
  },
  {
   "cell_type": "markdown",
   "metadata": {},
   "source": [
    "### C - External Data"
   ]
  },
  {
   "cell_type": "code",
   "execution_count": 75,
   "metadata": {},
   "outputs": [],
   "source": [
    "Budget = pd.read_csv('Budget data.csv')"
   ]
  },
  {
   "cell_type": "code",
   "execution_count": 76,
   "metadata": {},
   "outputs": [],
   "source": [
    "GDP = pd.read_csv('RealGDP.csv')"
   ]
  },
  {
   "cell_type": "code",
   "execution_count": 77,
   "metadata": {},
   "outputs": [],
   "source": [
    "External = pd.read_csv('covid_external.csv')"
   ]
  },
  {
   "cell_type": "code",
   "execution_count": 78,
   "metadata": {},
   "outputs": [],
   "source": [
    "Covid_Outdated = pd.read_csv('covidnig.csv')"
   ]
  },
  {
   "cell_type": "code",
   "execution_count": 79,
   "metadata": {},
   "outputs": [],
   "source": [
    "External['states'] = External['states'].replace({'Akwa Ibom' : 'Akwa-Ibom', 'Cross river' : 'Cross River', 'Nassarawa' : 'Nasarawa'})"
   ]
  },
  {
   "cell_type": "code",
   "execution_count": 80,
   "metadata": {},
   "outputs": [],
   "source": [
    "Nigeria_Data = pd.merge(Budget, External, on='states', how='inner')"
   ]
  },
  {
   "cell_type": "markdown",
   "metadata": {},
   "source": [
    "### Task 2 - Viewing the Data"
   ]
  },
  {
   "cell_type": "code",
   "execution_count": 81,
   "metadata": {},
   "outputs": [
    {
     "data": {
      "text/html": [
       "<div>\n",
       "<style scoped>\n",
       "    .dataframe tbody tr th:only-of-type {\n",
       "        vertical-align: middle;\n",
       "    }\n",
       "\n",
       "    .dataframe tbody tr th {\n",
       "        vertical-align: top;\n",
       "    }\n",
       "\n",
       "    .dataframe thead th {\n",
       "        text-align: right;\n",
       "    }\n",
       "</style>\n",
       "<table border=\"1\" class=\"dataframe\">\n",
       "  <thead>\n",
       "    <tr style=\"text-align: right;\">\n",
       "      <th></th>\n",
       "      <th>states</th>\n",
       "      <th>Initial_budget (Bn)</th>\n",
       "      <th>Revised_budget (Bn)</th>\n",
       "      <th>region</th>\n",
       "      <th>Population</th>\n",
       "      <th>Overall CCVI Index</th>\n",
       "      <th>Age</th>\n",
       "      <th>Epidemiological</th>\n",
       "      <th>Fragility</th>\n",
       "      <th>Health System</th>\n",
       "      <th>Population Density</th>\n",
       "      <th>Socio-Economic</th>\n",
       "      <th>Transport Availability</th>\n",
       "      <th>Acute IHR</th>\n",
       "    </tr>\n",
       "  </thead>\n",
       "  <tbody>\n",
       "    <tr>\n",
       "      <th>0</th>\n",
       "      <td>Abia</td>\n",
       "      <td>136.60</td>\n",
       "      <td>102.70</td>\n",
       "      <td>South East</td>\n",
       "      <td>4190000</td>\n",
       "      <td>0.2</td>\n",
       "      <td>0.9</td>\n",
       "      <td>0.6</td>\n",
       "      <td>0.1</td>\n",
       "      <td>0.3</td>\n",
       "      <td>0.9</td>\n",
       "      <td>0.2</td>\n",
       "      <td>0.0</td>\n",
       "      <td>1.14</td>\n",
       "    </tr>\n",
       "    <tr>\n",
       "      <th>1</th>\n",
       "      <td>Adamawa</td>\n",
       "      <td>183.30</td>\n",
       "      <td>139.31</td>\n",
       "      <td>North East</td>\n",
       "      <td>4672000</td>\n",
       "      <td>0.8</td>\n",
       "      <td>0.5</td>\n",
       "      <td>0.6</td>\n",
       "      <td>0.9</td>\n",
       "      <td>0.7</td>\n",
       "      <td>0.3</td>\n",
       "      <td>0.7</td>\n",
       "      <td>0.6</td>\n",
       "      <td>0.94</td>\n",
       "    </tr>\n",
       "    <tr>\n",
       "      <th>2</th>\n",
       "      <td>Akwa-Ibom</td>\n",
       "      <td>597.73</td>\n",
       "      <td>366.00</td>\n",
       "      <td>South East</td>\n",
       "      <td>6093000</td>\n",
       "      <td>0.7</td>\n",
       "      <td>0.8</td>\n",
       "      <td>0.7</td>\n",
       "      <td>0.6</td>\n",
       "      <td>0.8</td>\n",
       "      <td>0.8</td>\n",
       "      <td>0.5</td>\n",
       "      <td>0.1</td>\n",
       "      <td>1.01</td>\n",
       "    </tr>\n",
       "    <tr>\n",
       "      <th>3</th>\n",
       "      <td>Anambra</td>\n",
       "      <td>137.10</td>\n",
       "      <td>112.80</td>\n",
       "      <td>South East</td>\n",
       "      <td>6050000</td>\n",
       "      <td>0.6</td>\n",
       "      <td>0.9</td>\n",
       "      <td>1.0</td>\n",
       "      <td>0.6</td>\n",
       "      <td>0.2</td>\n",
       "      <td>1.0</td>\n",
       "      <td>0.0</td>\n",
       "      <td>0.1</td>\n",
       "      <td>1.08</td>\n",
       "    </tr>\n",
       "    <tr>\n",
       "      <th>4</th>\n",
       "      <td>Bauchi</td>\n",
       "      <td>167.20</td>\n",
       "      <td>128.00</td>\n",
       "      <td>North East</td>\n",
       "      <td>7270000</td>\n",
       "      <td>0.8</td>\n",
       "      <td>0.1</td>\n",
       "      <td>0.2</td>\n",
       "      <td>0.8</td>\n",
       "      <td>0.8</td>\n",
       "      <td>0.2</td>\n",
       "      <td>0.8</td>\n",
       "      <td>0.8</td>\n",
       "      <td>0.85</td>\n",
       "    </tr>\n",
       "  </tbody>\n",
       "</table>\n",
       "</div>"
      ],
      "text/plain": [
       "      states  Initial_budget (Bn)  Revised_budget (Bn)      region  \\\n",
       "0       Abia               136.60               102.70  South East   \n",
       "1    Adamawa               183.30               139.31  North East   \n",
       "2  Akwa-Ibom               597.73               366.00  South East   \n",
       "3    Anambra               137.10               112.80  South East   \n",
       "4     Bauchi               167.20               128.00  North East   \n",
       "\n",
       "   Population  Overall CCVI Index  Age  Epidemiological  Fragility  \\\n",
       "0     4190000                 0.2  0.9              0.6        0.1   \n",
       "1     4672000                 0.8  0.5              0.6        0.9   \n",
       "2     6093000                 0.7  0.8              0.7        0.6   \n",
       "3     6050000                 0.6  0.9              1.0        0.6   \n",
       "4     7270000                 0.8  0.1              0.2        0.8   \n",
       "\n",
       "   Health System  Population Density  Socio-Economic   Transport Availability  \\\n",
       "0            0.3                 0.9             0.2                      0.0   \n",
       "1            0.7                 0.3             0.7                      0.6   \n",
       "2            0.8                 0.8             0.5                      0.1   \n",
       "3            0.2                 1.0             0.0                      0.1   \n",
       "4            0.8                 0.2             0.8                      0.8   \n",
       "\n",
       "   Acute IHR  \n",
       "0       1.14  \n",
       "1       0.94  \n",
       "2       1.01  \n",
       "3       1.08  \n",
       "4       0.85  "
      ]
     },
     "execution_count": 81,
     "metadata": {},
     "output_type": "execute_result"
    }
   ],
   "source": [
    "Nigeria_Data.head()"
   ]
  },
  {
   "cell_type": "code",
   "execution_count": 82,
   "metadata": {},
   "outputs": [],
   "source": [
    "NewNigeria = pd.concat([Nigeria_Data, GDP], axis=1)"
   ]
  },
  {
   "cell_type": "code",
   "execution_count": 83,
   "metadata": {},
   "outputs": [
    {
     "data": {
      "text/html": [
       "<div>\n",
       "<style scoped>\n",
       "    .dataframe tbody tr th:only-of-type {\n",
       "        vertical-align: middle;\n",
       "    }\n",
       "\n",
       "    .dataframe tbody tr th {\n",
       "        vertical-align: top;\n",
       "    }\n",
       "\n",
       "    .dataframe thead th {\n",
       "        text-align: right;\n",
       "    }\n",
       "</style>\n",
       "<table border=\"1\" class=\"dataframe\">\n",
       "  <thead>\n",
       "    <tr style=\"text-align: right;\">\n",
       "      <th></th>\n",
       "      <th>states</th>\n",
       "      <th>Initial_budget (Bn)</th>\n",
       "      <th>Revised_budget (Bn)</th>\n",
       "      <th>region</th>\n",
       "      <th>Population</th>\n",
       "      <th>Overall CCVI Index</th>\n",
       "      <th>Age</th>\n",
       "      <th>Epidemiological</th>\n",
       "      <th>Fragility</th>\n",
       "      <th>Health System</th>\n",
       "      <th>Population Density</th>\n",
       "      <th>Socio-Economic</th>\n",
       "      <th>Transport Availability</th>\n",
       "      <th>Acute IHR</th>\n",
       "      <th>Year</th>\n",
       "      <th>Q1</th>\n",
       "      <th>Q2</th>\n",
       "      <th>Q3</th>\n",
       "      <th>Q4</th>\n",
       "    </tr>\n",
       "  </thead>\n",
       "  <tbody>\n",
       "    <tr>\n",
       "      <th>0</th>\n",
       "      <td>Abia</td>\n",
       "      <td>136.60</td>\n",
       "      <td>102.70</td>\n",
       "      <td>South East</td>\n",
       "      <td>4190000</td>\n",
       "      <td>0.2</td>\n",
       "      <td>0.9</td>\n",
       "      <td>0.6</td>\n",
       "      <td>0.1</td>\n",
       "      <td>0.3</td>\n",
       "      <td>0.9</td>\n",
       "      <td>0.2</td>\n",
       "      <td>0.0</td>\n",
       "      <td>1.14</td>\n",
       "      <td>2014.0</td>\n",
       "      <td>15438679.50</td>\n",
       "      <td>16084622.31</td>\n",
       "      <td>17479127.58</td>\n",
       "      <td>18150356.45</td>\n",
       "    </tr>\n",
       "    <tr>\n",
       "      <th>1</th>\n",
       "      <td>Adamawa</td>\n",
       "      <td>183.30</td>\n",
       "      <td>139.31</td>\n",
       "      <td>North East</td>\n",
       "      <td>4672000</td>\n",
       "      <td>0.8</td>\n",
       "      <td>0.5</td>\n",
       "      <td>0.6</td>\n",
       "      <td>0.9</td>\n",
       "      <td>0.7</td>\n",
       "      <td>0.3</td>\n",
       "      <td>0.7</td>\n",
       "      <td>0.6</td>\n",
       "      <td>0.94</td>\n",
       "      <td>2015.0</td>\n",
       "      <td>16050601.38</td>\n",
       "      <td>16463341.91</td>\n",
       "      <td>17976234.59</td>\n",
       "      <td>18533752.07</td>\n",
       "    </tr>\n",
       "    <tr>\n",
       "      <th>2</th>\n",
       "      <td>Akwa-Ibom</td>\n",
       "      <td>597.73</td>\n",
       "      <td>366.00</td>\n",
       "      <td>South East</td>\n",
       "      <td>6093000</td>\n",
       "      <td>0.7</td>\n",
       "      <td>0.8</td>\n",
       "      <td>0.7</td>\n",
       "      <td>0.6</td>\n",
       "      <td>0.8</td>\n",
       "      <td>0.8</td>\n",
       "      <td>0.5</td>\n",
       "      <td>0.1</td>\n",
       "      <td>1.01</td>\n",
       "      <td>2016.0</td>\n",
       "      <td>15943714.54</td>\n",
       "      <td>16218542.41</td>\n",
       "      <td>17555441.69</td>\n",
       "      <td>18213537.29</td>\n",
       "    </tr>\n",
       "    <tr>\n",
       "      <th>3</th>\n",
       "      <td>Anambra</td>\n",
       "      <td>137.10</td>\n",
       "      <td>112.80</td>\n",
       "      <td>South East</td>\n",
       "      <td>6050000</td>\n",
       "      <td>0.6</td>\n",
       "      <td>0.9</td>\n",
       "      <td>1.0</td>\n",
       "      <td>0.6</td>\n",
       "      <td>0.2</td>\n",
       "      <td>1.0</td>\n",
       "      <td>0.0</td>\n",
       "      <td>0.1</td>\n",
       "      <td>1.08</td>\n",
       "      <td>2017.0</td>\n",
       "      <td>15797965.83</td>\n",
       "      <td>16334719.27</td>\n",
       "      <td>17760228.17</td>\n",
       "      <td>18598067.07</td>\n",
       "    </tr>\n",
       "    <tr>\n",
       "      <th>4</th>\n",
       "      <td>Bauchi</td>\n",
       "      <td>167.20</td>\n",
       "      <td>128.00</td>\n",
       "      <td>North East</td>\n",
       "      <td>7270000</td>\n",
       "      <td>0.8</td>\n",
       "      <td>0.1</td>\n",
       "      <td>0.2</td>\n",
       "      <td>0.8</td>\n",
       "      <td>0.8</td>\n",
       "      <td>0.2</td>\n",
       "      <td>0.8</td>\n",
       "      <td>0.8</td>\n",
       "      <td>0.85</td>\n",
       "      <td>2018.0</td>\n",
       "      <td>16096654.19</td>\n",
       "      <td>16580508.07</td>\n",
       "      <td>18081342.10</td>\n",
       "      <td>19041437.59</td>\n",
       "    </tr>\n",
       "    <tr>\n",
       "      <th>5</th>\n",
       "      <td>Bayelsa</td>\n",
       "      <td>242.18</td>\n",
       "      <td>183.15</td>\n",
       "      <td>South South</td>\n",
       "      <td>2606000</td>\n",
       "      <td>0.5</td>\n",
       "      <td>0.8</td>\n",
       "      <td>0.6</td>\n",
       "      <td>0.1</td>\n",
       "      <td>0.9</td>\n",
       "      <td>0.5</td>\n",
       "      <td>0.2</td>\n",
       "      <td>0.7</td>\n",
       "      <td>1.00</td>\n",
       "      <td>2019.0</td>\n",
       "      <td>16434552.65</td>\n",
       "      <td>16931434.89</td>\n",
       "      <td>18494114.17</td>\n",
       "      <td>19530000.00</td>\n",
       "    </tr>\n",
       "    <tr>\n",
       "      <th>6</th>\n",
       "      <td>Benue</td>\n",
       "      <td>189.00</td>\n",
       "      <td>119.00</td>\n",
       "      <td>North Central</td>\n",
       "      <td>6376000</td>\n",
       "      <td>0.5</td>\n",
       "      <td>0.7</td>\n",
       "      <td>0.5</td>\n",
       "      <td>0.7</td>\n",
       "      <td>0.4</td>\n",
       "      <td>0.4</td>\n",
       "      <td>0.3</td>\n",
       "      <td>0.5</td>\n",
       "      <td>0.91</td>\n",
       "      <td>2020.0</td>\n",
       "      <td>16740000.00</td>\n",
       "      <td>15890000.00</td>\n",
       "      <td>17820000.00</td>\n",
       "      <td>0.00</td>\n",
       "    </tr>\n",
       "    <tr>\n",
       "      <th>7</th>\n",
       "      <td>Borno</td>\n",
       "      <td>146.80</td>\n",
       "      <td>108.80</td>\n",
       "      <td>North East</td>\n",
       "      <td>6651000</td>\n",
       "      <td>0.9</td>\n",
       "      <td>0.3</td>\n",
       "      <td>0.1</td>\n",
       "      <td>1.0</td>\n",
       "      <td>1.0</td>\n",
       "      <td>0.1</td>\n",
       "      <td>0.7</td>\n",
       "      <td>0.9</td>\n",
       "      <td>0.89</td>\n",
       "      <td>NaN</td>\n",
       "      <td>NaN</td>\n",
       "      <td>NaN</td>\n",
       "      <td>NaN</td>\n",
       "      <td>NaN</td>\n",
       "    </tr>\n",
       "    <tr>\n",
       "      <th>8</th>\n",
       "      <td>Cross River</td>\n",
       "      <td>1100.00</td>\n",
       "      <td>147.10</td>\n",
       "      <td>South South</td>\n",
       "      <td>4272000</td>\n",
       "      <td>0.5</td>\n",
       "      <td>0.4</td>\n",
       "      <td>0.7</td>\n",
       "      <td>0.8</td>\n",
       "      <td>0.1</td>\n",
       "      <td>0.4</td>\n",
       "      <td>0.4</td>\n",
       "      <td>0.6</td>\n",
       "      <td>0.98</td>\n",
       "      <td>NaN</td>\n",
       "      <td>NaN</td>\n",
       "      <td>NaN</td>\n",
       "      <td>NaN</td>\n",
       "      <td>NaN</td>\n",
       "    </tr>\n",
       "    <tr>\n",
       "      <th>9</th>\n",
       "      <td>Delta</td>\n",
       "      <td>395.50</td>\n",
       "      <td>282.30</td>\n",
       "      <td>South South</td>\n",
       "      <td>6303000</td>\n",
       "      <td>0.4</td>\n",
       "      <td>0.6</td>\n",
       "      <td>0.7</td>\n",
       "      <td>0.2</td>\n",
       "      <td>1.0</td>\n",
       "      <td>0.6</td>\n",
       "      <td>0.5</td>\n",
       "      <td>0.4</td>\n",
       "      <td>1.08</td>\n",
       "      <td>NaN</td>\n",
       "      <td>NaN</td>\n",
       "      <td>NaN</td>\n",
       "      <td>NaN</td>\n",
       "      <td>NaN</td>\n",
       "    </tr>\n",
       "  </tbody>\n",
       "</table>\n",
       "</div>"
      ],
      "text/plain": [
       "        states  Initial_budget (Bn)  Revised_budget (Bn)         region  \\\n",
       "0         Abia               136.60               102.70     South East   \n",
       "1      Adamawa               183.30               139.31     North East   \n",
       "2    Akwa-Ibom               597.73               366.00     South East   \n",
       "3      Anambra               137.10               112.80     South East   \n",
       "4       Bauchi               167.20               128.00     North East   \n",
       "5      Bayelsa               242.18               183.15    South South   \n",
       "6        Benue               189.00               119.00  North Central   \n",
       "7        Borno               146.80               108.80     North East   \n",
       "8  Cross River              1100.00               147.10    South South   \n",
       "9        Delta               395.50               282.30    South South   \n",
       "\n",
       "   Population  Overall CCVI Index  Age  Epidemiological  Fragility  \\\n",
       "0     4190000                 0.2  0.9              0.6        0.1   \n",
       "1     4672000                 0.8  0.5              0.6        0.9   \n",
       "2     6093000                 0.7  0.8              0.7        0.6   \n",
       "3     6050000                 0.6  0.9              1.0        0.6   \n",
       "4     7270000                 0.8  0.1              0.2        0.8   \n",
       "5     2606000                 0.5  0.8              0.6        0.1   \n",
       "6     6376000                 0.5  0.7              0.5        0.7   \n",
       "7     6651000                 0.9  0.3              0.1        1.0   \n",
       "8     4272000                 0.5  0.4              0.7        0.8   \n",
       "9     6303000                 0.4  0.6              0.7        0.2   \n",
       "\n",
       "   Health System  Population Density  Socio-Economic   Transport Availability  \\\n",
       "0            0.3                 0.9             0.2                      0.0   \n",
       "1            0.7                 0.3             0.7                      0.6   \n",
       "2            0.8                 0.8             0.5                      0.1   \n",
       "3            0.2                 1.0             0.0                      0.1   \n",
       "4            0.8                 0.2             0.8                      0.8   \n",
       "5            0.9                 0.5             0.2                      0.7   \n",
       "6            0.4                 0.4             0.3                      0.5   \n",
       "7            1.0                 0.1             0.7                      0.9   \n",
       "8            0.1                 0.4             0.4                      0.6   \n",
       "9            1.0                 0.6             0.5                      0.4   \n",
       "\n",
       "   Acute IHR    Year           Q1           Q2           Q3           Q4  \n",
       "0       1.14  2014.0  15438679.50  16084622.31  17479127.58  18150356.45  \n",
       "1       0.94  2015.0  16050601.38  16463341.91  17976234.59  18533752.07  \n",
       "2       1.01  2016.0  15943714.54  16218542.41  17555441.69  18213537.29  \n",
       "3       1.08  2017.0  15797965.83  16334719.27  17760228.17  18598067.07  \n",
       "4       0.85  2018.0  16096654.19  16580508.07  18081342.10  19041437.59  \n",
       "5       1.00  2019.0  16434552.65  16931434.89  18494114.17  19530000.00  \n",
       "6       0.91  2020.0  16740000.00  15890000.00  17820000.00         0.00  \n",
       "7       0.89     NaN          NaN          NaN          NaN          NaN  \n",
       "8       0.98     NaN          NaN          NaN          NaN          NaN  \n",
       "9       1.08     NaN          NaN          NaN          NaN          NaN  "
      ]
     },
     "execution_count": 83,
     "metadata": {},
     "output_type": "execute_result"
    }
   ],
   "source": [
    "NewNigeria.head(10)"
   ]
  },
  {
   "cell_type": "code",
   "execution_count": 84,
   "metadata": {},
   "outputs": [
    {
     "data": {
      "text/plain": [
       "<bound method DataFrame.info of          states  Initial_budget (Bn)  Revised_budget (Bn)         region  \\\n",
       "0          Abia               136.60               102.70     South East   \n",
       "1       Adamawa               183.30               139.31     North East   \n",
       "2     Akwa-Ibom               597.73               366.00     South East   \n",
       "3       Anambra               137.10               112.80     South East   \n",
       "4        Bauchi               167.20               128.00     North East   \n",
       "5       Bayelsa               242.18               183.15    South South   \n",
       "6         Benue               189.00               119.00  North Central   \n",
       "7         Borno               146.80               108.80     North East   \n",
       "8   Cross River              1100.00               147.10    South South   \n",
       "9         Delta               395.50               282.30    South South   \n",
       "10       Ebonyi               178.40               131.80    South South   \n",
       "11          Edo               179.20               128.80    South South   \n",
       "12        Ekiti               124.50                91.10     South West   \n",
       "13        Enugu               169.56               146.40     South East   \n",
       "14        Gombe               130.83               107.40     North East   \n",
       "15          Imo               197.60               108.30     South East   \n",
       "16       Jigawa               152.92               124.00     North West   \n",
       "17       Kaduna               259.25               223.60     North West   \n",
       "18         Kano               200.00               138.00     North West   \n",
       "19      Katsina               244.00               213.00     North West   \n",
       "20        Kebbi               138.00                99.60     North West   \n",
       "21         Kogi               176.00               102.00  North Central   \n",
       "22        Kwara               160.00               120.00  North Central   \n",
       "23        Lagos              1680.00               920.50     South West   \n",
       "24     Nasarawa               108.40                62.96  North Central   \n",
       "25        Niger               155.00                98.00  North Central   \n",
       "26         Ogun               449.90               280.00     South West   \n",
       "27         Ondo               187.80               151.40     South West   \n",
       "28         Osun               119.60                82.20     South West   \n",
       "29          Oyo               213.00               174.00     South West   \n",
       "30      Plateau               177.30               122.00  North Central   \n",
       "31       Rivers               530.80               300.40    South South   \n",
       "32       Sokoto               202.40               153.00     North West   \n",
       "33       Taraba               215.00               150.50     North East   \n",
       "34         Yobe               108.00                86.00     North East   \n",
       "35      Zamfara               188.50               127.30     North West   \n",
       "36          FCT               278.78               199.00  North Central   \n",
       "\n",
       "    Population  Overall CCVI Index  Age  Epidemiological  Fragility  \\\n",
       "0      4190000                 0.2  0.9              0.6        0.1   \n",
       "1      4672000                 0.8  0.5              0.6        0.9   \n",
       "2      6093000                 0.7  0.8              0.7        0.6   \n",
       "3      6050000                 0.6  0.9              1.0        0.6   \n",
       "4      7270000                 0.8  0.1              0.2        0.8   \n",
       "5      2606000                 0.5  0.8              0.6        0.1   \n",
       "6      6376000                 0.5  0.7              0.5        0.7   \n",
       "7      6651000                 0.9  0.3              0.1        1.0   \n",
       "8      4272000                 0.5  0.4              0.7        0.8   \n",
       "9      6303000                 0.4  0.6              0.7        0.2   \n",
       "10     3192000                 0.6  1.0              0.0        0.6   \n",
       "11     4705000                 0.1  0.9              0.8        0.1   \n",
       "12     3593000                 0.3  0.8              0.3        0.5   \n",
       "13     4801000                 0.2  0.9              0.4        0.0   \n",
       "14     3692000                 1.0  0.4              0.4        0.9   \n",
       "15     6018000                 0.4  1.0              0.9        0.0   \n",
       "16     6435000                 0.9  0.4              0.0        0.7   \n",
       "17     9227000                 0.7  0.1              0.9        0.8   \n",
       "18    14726000                 0.6  0.2              0.1        0.3   \n",
       "19     8713000                 0.7  0.1              0.1        0.3   \n",
       "20     4968000                 0.8  0.2              0.3        0.4   \n",
       "21     4970000                 0.1  0.3              0.2        0.5   \n",
       "22     3524000                 0.3  0.4              0.3        0.2   \n",
       "23    13992000                 0.0  0.1              1.0        0.3   \n",
       "24     2783000                 0.1  0.3              0.5        0.9   \n",
       "25     6260000                 0.6  0.0              0.6        0.3   \n",
       "26     5878000                 0.3  0.6              0.7        0.5   \n",
       "27     5185000                 0.1  0.8              0.5        0.1   \n",
       "28     5252000                 0.0  0.7              0.4        0.4   \n",
       "29     8737000                 0.2  0.7              0.8        0.2   \n",
       "30     4766000                 0.4  0.5              0.4        0.8   \n",
       "31     7763000                 0.4  0.5              0.9        0.6   \n",
       "32     5612000                 0.9  0.3              0.2        0.4   \n",
       "33     3387000                 0.8  0.6              0.8        0.9   \n",
       "34     3723000                 1.0  0.6              0.3        1.0   \n",
       "35     4974000                 0.9  0.2              0.1        0.7   \n",
       "36     4865000                 0.3  0.0              0.9        0.4   \n",
       "\n",
       "    Health System  Population Density  Socio-Economic  \\\n",
       "0             0.3                 0.9             0.2   \n",
       "1             0.7                 0.3             0.7   \n",
       "2             0.8                 0.8             0.5   \n",
       "3             0.2                 1.0             0.0   \n",
       "4             0.8                 0.2             0.8   \n",
       "5             0.9                 0.5             0.2   \n",
       "6             0.4                 0.4             0.3   \n",
       "7             1.0                 0.1             0.7   \n",
       "8             0.1                 0.4             0.4   \n",
       "9             1.0                 0.6             0.5   \n",
       "10            0.1                 0.7             0.3   \n",
       "11            0.1                 0.5             0.4   \n",
       "12            0.2                 0.8             0.1   \n",
       "13            0.3                 0.7             0.4   \n",
       "14            0.9                 0.3             0.8   \n",
       "15            0.4                 0.9             0.4   \n",
       "16            0.6                 0.5             0.9   \n",
       "17            0.9                 0.4             0.6   \n",
       "18            0.4                 0.8             0.8   \n",
       "19            0.2                 0.6             0.9   \n",
       "20            0.9                 0.1             0.9   \n",
       "21            0.5                 0.4             0.3   \n",
       "22            0.4                 0.2             0.6   \n",
       "23            0.1                 1.0             0.1   \n",
       "24            0.0                 0.1             0.6   \n",
       "25            0.7                 0.1             0.8   \n",
       "26            0.6                 0.6             0.0   \n",
       "27            0.3                 0.6             0.3   \n",
       "28            0.0                 0.8             0.1   \n",
       "29            0.8                 0.6             0.2   \n",
       "30            0.3                 0.3             0.5   \n",
       "31            0.6                 0.9             0.1   \n",
       "32            0.7                 0.3             1.0   \n",
       "33            0.5                 0.0             0.7   \n",
       "34            0.5                 0.0             0.9   \n",
       "35            0.8                 0.2             1.0   \n",
       "36            0.6                 0.9             0.6   \n",
       "\n",
       "     Transport Availability  Acute IHR    Year           Q1           Q2  \\\n",
       "0                       0.0       1.14  2014.0  15438679.50  16084622.31   \n",
       "1                       0.6       0.94  2015.0  16050601.38  16463341.91   \n",
       "2                       0.1       1.01  2016.0  15943714.54  16218542.41   \n",
       "3                       0.1       1.08  2017.0  15797965.83  16334719.27   \n",
       "4                       0.8       0.85  2018.0  16096654.19  16580508.07   \n",
       "5                       0.7       1.00  2019.0  16434552.65  16931434.89   \n",
       "6                       0.5       0.91  2020.0  16740000.00  15890000.00   \n",
       "7                       0.9       0.89     NaN          NaN          NaN   \n",
       "8                       0.6       0.98     NaN          NaN          NaN   \n",
       "9                       0.4       1.08     NaN          NaN          NaN   \n",
       "10                      0.6       1.00     NaN          NaN          NaN   \n",
       "11                      0.3       1.09     NaN          NaN          NaN   \n",
       "12                      0.4       1.03     NaN          NaN          NaN   \n",
       "13                      0.1       1.14     NaN          NaN          NaN   \n",
       "14                      0.7       0.83     NaN          NaN          NaN   \n",
       "15                      0.0       1.12     NaN          NaN          NaN   \n",
       "16                      0.8       0.92     NaN          NaN          NaN   \n",
       "17                      0.4       0.86     NaN          NaN          NaN   \n",
       "18                      0.5       0.87     NaN          NaN          NaN   \n",
       "19                      0.8       0.85     NaN          NaN          NaN   \n",
       "20                      0.9       0.85     NaN          NaN          NaN   \n",
       "21                      0.6       0.87     NaN          NaN          NaN   \n",
       "22                      0.7       0.93     NaN          NaN          NaN   \n",
       "23                      0.4       0.93     NaN          NaN          NaN   \n",
       "24                      0.5       0.85     NaN          NaN          NaN   \n",
       "25                      0.8       0.84     NaN          NaN          NaN   \n",
       "26                      0.2       1.07     NaN          NaN          NaN   \n",
       "27                      0.3       1.04     NaN          NaN          NaN   \n",
       "28                      0.2       1.06     NaN          NaN          NaN   \n",
       "29                      0.3       1.06     NaN          NaN          NaN   \n",
       "30                      0.3       0.93     NaN          NaN          NaN   \n",
       "31                      0.1       1.00     NaN          NaN          NaN   \n",
       "32                      1.0       0.89     NaN          NaN          NaN   \n",
       "33                      0.9       0.86     NaN          NaN          NaN   \n",
       "34                      1.0       0.87     NaN          NaN          NaN   \n",
       "35                      0.9       0.87     NaN          NaN          NaN   \n",
       "36                      0.2       0.79     NaN          NaN          NaN   \n",
       "\n",
       "             Q3           Q4  \n",
       "0   17479127.58  18150356.45  \n",
       "1   17976234.59  18533752.07  \n",
       "2   17555441.69  18213537.29  \n",
       "3   17760228.17  18598067.07  \n",
       "4   18081342.10  19041437.59  \n",
       "5   18494114.17  19530000.00  \n",
       "6   17820000.00         0.00  \n",
       "7           NaN          NaN  \n",
       "8           NaN          NaN  \n",
       "9           NaN          NaN  \n",
       "10          NaN          NaN  \n",
       "11          NaN          NaN  \n",
       "12          NaN          NaN  \n",
       "13          NaN          NaN  \n",
       "14          NaN          NaN  \n",
       "15          NaN          NaN  \n",
       "16          NaN          NaN  \n",
       "17          NaN          NaN  \n",
       "18          NaN          NaN  \n",
       "19          NaN          NaN  \n",
       "20          NaN          NaN  \n",
       "21          NaN          NaN  \n",
       "22          NaN          NaN  \n",
       "23          NaN          NaN  \n",
       "24          NaN          NaN  \n",
       "25          NaN          NaN  \n",
       "26          NaN          NaN  \n",
       "27          NaN          NaN  \n",
       "28          NaN          NaN  \n",
       "29          NaN          NaN  \n",
       "30          NaN          NaN  \n",
       "31          NaN          NaN  \n",
       "32          NaN          NaN  \n",
       "33          NaN          NaN  \n",
       "34          NaN          NaN  \n",
       "35          NaN          NaN  \n",
       "36          NaN          NaN  >"
      ]
     },
     "execution_count": 84,
     "metadata": {},
     "output_type": "execute_result"
    }
   ],
   "source": [
    "NewNigeria.info"
   ]
  },
  {
   "cell_type": "code",
   "execution_count": 85,
   "metadata": {},
   "outputs": [
    {
     "data": {
      "text/html": [
       "<div>\n",
       "<style scoped>\n",
       "    .dataframe tbody tr th:only-of-type {\n",
       "        vertical-align: middle;\n",
       "    }\n",
       "\n",
       "    .dataframe tbody tr th {\n",
       "        vertical-align: top;\n",
       "    }\n",
       "\n",
       "    .dataframe thead th {\n",
       "        text-align: right;\n",
       "    }\n",
       "</style>\n",
       "<table border=\"1\" class=\"dataframe\">\n",
       "  <thead>\n",
       "    <tr style=\"text-align: right;\">\n",
       "      <th></th>\n",
       "      <th>States Affected</th>\n",
       "      <th>No. of Cases (Lab Confirmed)</th>\n",
       "      <th>No. of Cases (on admission)</th>\n",
       "      <th>No. Discharged</th>\n",
       "      <th>No. of Deaths</th>\n",
       "    </tr>\n",
       "  </thead>\n",
       "  <tbody>\n",
       "    <tr>\n",
       "      <th>0</th>\n",
       "      <td>Lagos</td>\n",
       "      <td>65609</td>\n",
       "      <td>6615</td>\n",
       "      <td>58529</td>\n",
       "      <td>465</td>\n",
       "    </tr>\n",
       "    <tr>\n",
       "      <th>1</th>\n",
       "      <td>FCT</td>\n",
       "      <td>20063</td>\n",
       "      <td>151</td>\n",
       "      <td>19742</td>\n",
       "      <td>170</td>\n",
       "    </tr>\n",
       "    <tr>\n",
       "      <th>2</th>\n",
       "      <td>Kaduna</td>\n",
       "      <td>9194</td>\n",
       "      <td>37</td>\n",
       "      <td>9091</td>\n",
       "      <td>66</td>\n",
       "    </tr>\n",
       "    <tr>\n",
       "      <th>3</th>\n",
       "      <td>Plateau</td>\n",
       "      <td>9119</td>\n",
       "      <td>54</td>\n",
       "      <td>9008</td>\n",
       "      <td>57</td>\n",
       "    </tr>\n",
       "    <tr>\n",
       "      <th>4</th>\n",
       "      <td>Rivers</td>\n",
       "      <td>7919</td>\n",
       "      <td>364</td>\n",
       "      <td>7453</td>\n",
       "      <td>102</td>\n",
       "    </tr>\n",
       "  </tbody>\n",
       "</table>\n",
       "</div>"
      ],
      "text/plain": [
       "  States Affected  No. of Cases (Lab Confirmed)  No. of Cases (on admission)  \\\n",
       "0           Lagos                         65609                         6615   \n",
       "1             FCT                         20063                          151   \n",
       "2          Kaduna                          9194                           37   \n",
       "3         Plateau                          9119                           54   \n",
       "4          Rivers                          7919                          364   \n",
       "\n",
       "   No. Discharged  No. of Deaths  \n",
       "0           58529            465  \n",
       "1           19742            170  \n",
       "2            9091             66  \n",
       "3            9008             57  \n",
       "4            7453            102  "
      ]
     },
     "execution_count": 85,
     "metadata": {},
     "output_type": "execute_result"
    }
   ],
   "source": [
    "Covid.head()"
   ]
  },
  {
   "cell_type": "markdown",
   "metadata": {},
   "source": [
    "### Task 3 - Cleaning the Data"
   ]
  },
  {
   "cell_type": "markdown",
   "metadata": {},
   "source": [
    "###### TODO A"
   ]
  },
  {
   "cell_type": "code",
   "execution_count": 86,
   "metadata": {},
   "outputs": [],
   "source": [
    "#Replacing the commas in the Numbers\n",
    "#Renaming Columns\n",
    "Covid.replace(',', '', regex=True, inplace=True)\n",
    "Covid = Covid.rename(columns = {'States Affected' : 'states', 'No. of Cases (Lab Confirmed)' : 'Confirmed', 'No. of Cases (on admission)' : 'Cases', 'No. Discharged' : 'Discharged', 'No. of Deaths' : 'Deaths'})"
   ]
  },
  {
   "cell_type": "code",
   "execution_count": 87,
   "metadata": {},
   "outputs": [
    {
     "data": {
      "text/html": [
       "<div>\n",
       "<style scoped>\n",
       "    .dataframe tbody tr th:only-of-type {\n",
       "        vertical-align: middle;\n",
       "    }\n",
       "\n",
       "    .dataframe tbody tr th {\n",
       "        vertical-align: top;\n",
       "    }\n",
       "\n",
       "    .dataframe thead th {\n",
       "        text-align: right;\n",
       "    }\n",
       "</style>\n",
       "<table border=\"1\" class=\"dataframe\">\n",
       "  <thead>\n",
       "    <tr style=\"text-align: right;\">\n",
       "      <th></th>\n",
       "      <th>states</th>\n",
       "      <th>Confirmed</th>\n",
       "      <th>Cases</th>\n",
       "      <th>Discharged</th>\n",
       "      <th>Deaths</th>\n",
       "    </tr>\n",
       "  </thead>\n",
       "  <tbody>\n",
       "    <tr>\n",
       "      <th>0</th>\n",
       "      <td>Lagos</td>\n",
       "      <td>65609</td>\n",
       "      <td>6615</td>\n",
       "      <td>58529</td>\n",
       "      <td>465</td>\n",
       "    </tr>\n",
       "    <tr>\n",
       "      <th>1</th>\n",
       "      <td>FCT</td>\n",
       "      <td>20063</td>\n",
       "      <td>151</td>\n",
       "      <td>19742</td>\n",
       "      <td>170</td>\n",
       "    </tr>\n",
       "    <tr>\n",
       "      <th>2</th>\n",
       "      <td>Kaduna</td>\n",
       "      <td>9194</td>\n",
       "      <td>37</td>\n",
       "      <td>9091</td>\n",
       "      <td>66</td>\n",
       "    </tr>\n",
       "    <tr>\n",
       "      <th>3</th>\n",
       "      <td>Plateau</td>\n",
       "      <td>9119</td>\n",
       "      <td>54</td>\n",
       "      <td>9008</td>\n",
       "      <td>57</td>\n",
       "    </tr>\n",
       "    <tr>\n",
       "      <th>4</th>\n",
       "      <td>Rivers</td>\n",
       "      <td>7919</td>\n",
       "      <td>364</td>\n",
       "      <td>7453</td>\n",
       "      <td>102</td>\n",
       "    </tr>\n",
       "  </tbody>\n",
       "</table>\n",
       "</div>"
      ],
      "text/plain": [
       "    states  Confirmed  Cases  Discharged  Deaths\n",
       "0    Lagos      65609   6615       58529     465\n",
       "1      FCT      20063    151       19742     170\n",
       "2   Kaduna       9194     37        9091      66\n",
       "3  Plateau       9119     54        9008      57\n",
       "4   Rivers       7919    364        7453     102"
      ]
     },
     "execution_count": 87,
     "metadata": {},
     "output_type": "execute_result"
    }
   ],
   "source": [
    "#Changing to appropriate Datatype\n",
    "cols = ['Confirmed', 'Cases', 'Discharged', 'Deaths']\n",
    "Covid[cols] = Covid[cols].apply(pd.to_numeric, errors='coerce')\n",
    "Covid.head()"
   ]
  },
  {
   "cell_type": "code",
   "execution_count": 88,
   "metadata": {},
   "outputs": [
    {
     "data": {
      "text/plain": [
       "states        object\n",
       "Confirmed      int64\n",
       "Cases          int64\n",
       "Discharged     int64\n",
       "Deaths         int64\n",
       "dtype: object"
      ]
     },
     "execution_count": 88,
     "metadata": {},
     "output_type": "execute_result"
    }
   ],
   "source": [
    "Covid.dtypes"
   ]
  },
  {
   "cell_type": "code",
   "execution_count": 89,
   "metadata": {},
   "outputs": [
    {
     "data": {
      "text/html": [
       "<div>\n",
       "<style scoped>\n",
       "    .dataframe tbody tr th:only-of-type {\n",
       "        vertical-align: middle;\n",
       "    }\n",
       "\n",
       "    .dataframe tbody tr th {\n",
       "        vertical-align: top;\n",
       "    }\n",
       "\n",
       "    .dataframe thead th {\n",
       "        text-align: right;\n",
       "    }\n",
       "</style>\n",
       "<table border=\"1\" class=\"dataframe\">\n",
       "  <thead>\n",
       "    <tr style=\"text-align: right;\">\n",
       "      <th></th>\n",
       "      <th>states</th>\n",
       "      <th>Confirmed</th>\n",
       "      <th>Cases</th>\n",
       "      <th>Discharged</th>\n",
       "      <th>Deaths</th>\n",
       "    </tr>\n",
       "  </thead>\n",
       "  <tbody>\n",
       "    <tr>\n",
       "      <th>0</th>\n",
       "      <td>Lagos</td>\n",
       "      <td>65609</td>\n",
       "      <td>6615</td>\n",
       "      <td>58529</td>\n",
       "      <td>465</td>\n",
       "    </tr>\n",
       "    <tr>\n",
       "      <th>1</th>\n",
       "      <td>FCT</td>\n",
       "      <td>20063</td>\n",
       "      <td>151</td>\n",
       "      <td>19742</td>\n",
       "      <td>170</td>\n",
       "    </tr>\n",
       "    <tr>\n",
       "      <th>2</th>\n",
       "      <td>Kaduna</td>\n",
       "      <td>9194</td>\n",
       "      <td>37</td>\n",
       "      <td>9091</td>\n",
       "      <td>66</td>\n",
       "    </tr>\n",
       "    <tr>\n",
       "      <th>3</th>\n",
       "      <td>Plateau</td>\n",
       "      <td>9119</td>\n",
       "      <td>54</td>\n",
       "      <td>9008</td>\n",
       "      <td>57</td>\n",
       "    </tr>\n",
       "    <tr>\n",
       "      <th>4</th>\n",
       "      <td>Rivers</td>\n",
       "      <td>7919</td>\n",
       "      <td>364</td>\n",
       "      <td>7453</td>\n",
       "      <td>102</td>\n",
       "    </tr>\n",
       "  </tbody>\n",
       "</table>\n",
       "</div>"
      ],
      "text/plain": [
       "    states  Confirmed  Cases  Discharged  Deaths\n",
       "0    Lagos      65609   6615       58529     465\n",
       "1      FCT      20063    151       19742     170\n",
       "2   Kaduna       9194     37        9091      66\n",
       "3  Plateau       9119     54        9008      57\n",
       "4   Rivers       7919    364        7453     102"
      ]
     },
     "execution_count": 89,
     "metadata": {},
     "output_type": "execute_result"
    }
   ],
   "source": [
    "Covid.head()"
   ]
  },
  {
   "cell_type": "code",
   "execution_count": 90,
   "metadata": {},
   "outputs": [],
   "source": [
    "#Extracting Nigeria's Data from the Global Data\n",
    "NigGlobal = Global_Data[Global_Data['Country/Region'] == 'Nigeria'].transpose()\n",
    "NigGlobal.drop(['Province/State', 'Country/Region', 'Lat', 'Long'], inplace=True)\n",
    "NigGlobal.reset_index(inplace=True)"
   ]
  },
  {
   "cell_type": "code",
   "execution_count": 91,
   "metadata": {},
   "outputs": [],
   "source": [
    "#Changing Datatype\n",
    "NigGlobal['Dates'] = pd.to_datetime(NigGlobal['index'])\n",
    "cols = ['Confirmed', 'Deaths', 'Recovered']\n",
    "NigGlobal[cols] = NigGlobal[cols].apply(pd.to_numeric)"
   ]
  },
  {
   "cell_type": "code",
   "execution_count": 92,
   "metadata": {},
   "outputs": [],
   "source": [
    "#Resolving Multilevel index\n",
    "NigGlobal.columns = NigGlobal.columns.droplevel(1)"
   ]
  },
  {
   "cell_type": "code",
   "execution_count": 93,
   "metadata": {},
   "outputs": [],
   "source": [
    "NigGlobal.set_index('Dates', inplace=True)\n",
    "del NigGlobal['index']"
   ]
  },
  {
   "cell_type": "code",
   "execution_count": 94,
   "metadata": {},
   "outputs": [
    {
     "data": {
      "text/html": [
       "<div>\n",
       "<style scoped>\n",
       "    .dataframe tbody tr th:only-of-type {\n",
       "        vertical-align: middle;\n",
       "    }\n",
       "\n",
       "    .dataframe tbody tr th {\n",
       "        vertical-align: top;\n",
       "    }\n",
       "\n",
       "    .dataframe thead th {\n",
       "        text-align: right;\n",
       "    }\n",
       "</style>\n",
       "<table border=\"1\" class=\"dataframe\">\n",
       "  <thead>\n",
       "    <tr style=\"text-align: right;\">\n",
       "      <th></th>\n",
       "      <th>Confirmed</th>\n",
       "      <th>Deaths</th>\n",
       "      <th>Recovered</th>\n",
       "    </tr>\n",
       "    <tr>\n",
       "      <th>Dates</th>\n",
       "      <th></th>\n",
       "      <th></th>\n",
       "      <th></th>\n",
       "    </tr>\n",
       "  </thead>\n",
       "  <tbody>\n",
       "    <tr>\n",
       "      <th>2020-01-22</th>\n",
       "      <td>0</td>\n",
       "      <td>0</td>\n",
       "      <td>0</td>\n",
       "    </tr>\n",
       "    <tr>\n",
       "      <th>2020-01-23</th>\n",
       "      <td>0</td>\n",
       "      <td>0</td>\n",
       "      <td>0</td>\n",
       "    </tr>\n",
       "    <tr>\n",
       "      <th>2020-01-24</th>\n",
       "      <td>0</td>\n",
       "      <td>0</td>\n",
       "      <td>0</td>\n",
       "    </tr>\n",
       "    <tr>\n",
       "      <th>2020-01-25</th>\n",
       "      <td>0</td>\n",
       "      <td>0</td>\n",
       "      <td>0</td>\n",
       "    </tr>\n",
       "    <tr>\n",
       "      <th>2020-01-26</th>\n",
       "      <td>0</td>\n",
       "      <td>0</td>\n",
       "      <td>0</td>\n",
       "    </tr>\n",
       "  </tbody>\n",
       "</table>\n",
       "</div>"
      ],
      "text/plain": [
       "            Confirmed  Deaths  Recovered\n",
       "Dates                                   \n",
       "2020-01-22          0       0          0\n",
       "2020-01-23          0       0          0\n",
       "2020-01-24          0       0          0\n",
       "2020-01-25          0       0          0\n",
       "2020-01-26          0       0          0"
      ]
     },
     "execution_count": 94,
     "metadata": {},
     "output_type": "execute_result"
    }
   ],
   "source": [
    "NigGlobal.head()"
   ]
  },
  {
   "cell_type": "code",
   "execution_count": 95,
   "metadata": {},
   "outputs": [
    {
     "data": {
      "text/plain": [
       "Index(['Confirmed', 'Deaths', 'Recovered'], dtype='object')"
      ]
     },
     "execution_count": 95,
     "metadata": {},
     "output_type": "execute_result"
    }
   ],
   "source": [
    "NigGlobal.columns"
   ]
  },
  {
   "cell_type": "markdown",
   "metadata": {},
   "source": [
    "###### TODO B"
   ]
  },
  {
   "cell_type": "code",
   "execution_count": 96,
   "metadata": {},
   "outputs": [
    {
     "data": {
      "text/plain": [
       "Dates\n",
       "2020-01-22    0\n",
       "2020-01-23    0\n",
       "2020-01-24    0\n",
       "2020-01-25    0\n",
       "2020-01-26    0\n",
       "Name: Confirmed, dtype: int64"
      ]
     },
     "execution_count": 96,
     "metadata": {},
     "output_type": "execute_result"
    }
   ],
   "source": [
    "#Dataframe for Confirmed Cases\n",
    "NigCon = NigGlobal['Confirmed']\n",
    "NigCon.head()"
   ]
  },
  {
   "cell_type": "markdown",
   "metadata": {},
   "source": [
    "#### TODO C"
   ]
  },
  {
   "cell_type": "code",
   "execution_count": 97,
   "metadata": {},
   "outputs": [
    {
     "data": {
      "text/plain": [
       "Dates\n",
       "2020-01-22    0\n",
       "2020-01-23    0\n",
       "2020-01-24    0\n",
       "2020-01-25    0\n",
       "2020-01-26    0\n",
       "Name: Deaths, dtype: int64"
      ]
     },
     "execution_count": 97,
     "metadata": {},
     "output_type": "execute_result"
    }
   ],
   "source": [
    "#Dataframe for Death Cases\n",
    "NigDie = NigGlobal['Deaths'].transpose()\n",
    "NigDie.head()"
   ]
  },
  {
   "cell_type": "markdown",
   "metadata": {},
   "source": [
    "#### TODO D"
   ]
  },
  {
   "cell_type": "code",
   "execution_count": 98,
   "metadata": {},
   "outputs": [
    {
     "data": {
      "text/plain": [
       "Dates\n",
       "2020-01-22    0\n",
       "2020-01-23    0\n",
       "2020-01-24    0\n",
       "2020-01-25    0\n",
       "2020-01-26    0\n",
       "Name: Recovered, dtype: int64"
      ]
     },
     "execution_count": 98,
     "metadata": {},
     "output_type": "execute_result"
    }
   ],
   "source": [
    "#Dataframe for Recovered Cases\n",
    "NigRec = NigGlobal['Recovered'].transpose()\n",
    "NigRec.head()"
   ]
  },
  {
   "cell_type": "markdown",
   "metadata": {},
   "source": [
    "### Analysis"
   ]
  },
  {
   "cell_type": "code",
   "execution_count": 99,
   "metadata": {},
   "outputs": [
    {
     "data": {
      "text/html": [
       "<div>\n",
       "<style scoped>\n",
       "    .dataframe tbody tr th:only-of-type {\n",
       "        vertical-align: middle;\n",
       "    }\n",
       "\n",
       "    .dataframe tbody tr th {\n",
       "        vertical-align: top;\n",
       "    }\n",
       "\n",
       "    .dataframe thead th {\n",
       "        text-align: right;\n",
       "    }\n",
       "</style>\n",
       "<table border=\"1\" class=\"dataframe\">\n",
       "  <thead>\n",
       "    <tr style=\"text-align: right;\">\n",
       "      <th></th>\n",
       "      <th>states</th>\n",
       "      <th>Confirmed</th>\n",
       "      <th>Cases</th>\n",
       "      <th>Discharged</th>\n",
       "      <th>Deaths</th>\n",
       "    </tr>\n",
       "  </thead>\n",
       "  <tbody>\n",
       "    <tr>\n",
       "      <th>0</th>\n",
       "      <td>Lagos</td>\n",
       "      <td>65609</td>\n",
       "      <td>6615</td>\n",
       "      <td>58529</td>\n",
       "      <td>465</td>\n",
       "    </tr>\n",
       "    <tr>\n",
       "      <th>1</th>\n",
       "      <td>FCT</td>\n",
       "      <td>20063</td>\n",
       "      <td>151</td>\n",
       "      <td>19742</td>\n",
       "      <td>170</td>\n",
       "    </tr>\n",
       "    <tr>\n",
       "      <th>2</th>\n",
       "      <td>Kaduna</td>\n",
       "      <td>9194</td>\n",
       "      <td>37</td>\n",
       "      <td>9091</td>\n",
       "      <td>66</td>\n",
       "    </tr>\n",
       "    <tr>\n",
       "      <th>3</th>\n",
       "      <td>Plateau</td>\n",
       "      <td>9119</td>\n",
       "      <td>54</td>\n",
       "      <td>9008</td>\n",
       "      <td>57</td>\n",
       "    </tr>\n",
       "    <tr>\n",
       "      <th>4</th>\n",
       "      <td>Rivers</td>\n",
       "      <td>7919</td>\n",
       "      <td>364</td>\n",
       "      <td>7453</td>\n",
       "      <td>102</td>\n",
       "    </tr>\n",
       "  </tbody>\n",
       "</table>\n",
       "</div>"
      ],
      "text/plain": [
       "    states  Confirmed  Cases  Discharged  Deaths\n",
       "0    Lagos      65609   6615       58529     465\n",
       "1      FCT      20063    151       19742     170\n",
       "2   Kaduna       9194     37        9091      66\n",
       "3  Plateau       9119     54        9008      57\n",
       "4   Rivers       7919    364        7453     102"
      ]
     },
     "execution_count": 99,
     "metadata": {},
     "output_type": "execute_result"
    }
   ],
   "source": [
    "Covid.head()"
   ]
  },
  {
   "cell_type": "code",
   "execution_count": 100,
   "metadata": {},
   "outputs": [
    {
     "data": {
      "text/plain": [
       "states        object\n",
       "Confirmed      int64\n",
       "Cases          int64\n",
       "Discharged     int64\n",
       "Deaths         int64\n",
       "dtype: object"
      ]
     },
     "execution_count": 100,
     "metadata": {},
     "output_type": "execute_result"
    }
   ],
   "source": [
    "Covid.dtypes"
   ]
  },
  {
   "cell_type": "markdown",
   "metadata": {},
   "source": [
    "###### TODO A"
   ]
  },
  {
   "cell_type": "code",
   "execution_count": 101,
   "metadata": {},
   "outputs": [
    {
     "data": {
      "text/plain": [
       "Text(0.5, 1.0, 'Top Ten Confirmed Laboratory Cases')"
      ]
     },
     "execution_count": 101,
     "metadata": {},
     "output_type": "execute_result"
    },
    {
     "data": {
      "image/png": "[encoded data removed]",
      "text/plain": [
       "<Figure size 432x288 with 1 Axes>"
      ]
     },
     "metadata": {},
     "output_type": "display_data"
    }
   ],
   "source": [
    "sns.barplot(y= 'states', x = 'Confirmed', data=Covid.nlargest(10, 'Confirmed')).set_title('Top Ten Confirmed Laboratory Cases')"
   ]
  },
  {
   "cell_type": "markdown",
   "metadata": {},
   "source": [
    "###### TODO B"
   ]
  },
  {
   "cell_type": "code",
   "execution_count": 102,
   "metadata": {},
   "outputs": [
    {
     "data": {
      "text/plain": [
       "Text(0.5, 1.0, 'Top Ten Discharged Cases')"
      ]
     },
     "execution_count": 102,
     "metadata": {},
     "output_type": "execute_result"
    },
    {
     "data": {
      "image/png": "[encoded data removed]",
      "text/plain": [
       "<Figure size 432x288 with 1 Axes>"
      ]
     },
     "metadata": {},
     "output_type": "display_data"
    }
   ],
   "source": [
    "sns.barplot(y= 'states', x = 'Discharged', data=Covid.nlargest(10, 'Discharged')).set_title('Top Ten Discharged Cases')"
   ]
  },
  {
   "cell_type": "markdown",
   "metadata": {},
   "source": [
    "###### TODO D"
   ]
  },
  {
   "cell_type": "code",
   "execution_count": 103,
   "metadata": {},
   "outputs": [
    {
     "data": {
      "text/plain": [
       "Text(0.5, 1.0, 'Top Ten Death Cases')"
      ]
     },
     "execution_count": 103,
     "metadata": {},
     "output_type": "execute_result"
    },
    {
     "data": {
      "image/png": "[encoded data removed]",
      "text/plain": [
       "<Figure size 432x288 with 1 Axes>"
      ]
     },
     "metadata": {},
     "output_type": "display_data"
    }
   ],
   "source": [
    "sns.barplot(y= 'states', x = 'Deaths', data=Covid.nlargest(10, 'Deaths')).set_title('Top Ten Death Cases')"
   ]
  },
  {
   "cell_type": "code",
   "execution_count": 104,
   "metadata": {},
   "outputs": [
    {
     "data": {
      "text/plain": [
       "Confirmed    int64\n",
       "Deaths       int64\n",
       "Recovered    int64\n",
       "dtype: object"
      ]
     },
     "execution_count": 104,
     "metadata": {},
     "output_type": "execute_result"
    }
   ],
   "source": [
    "NigGlobal.dtypes"
   ]
  },
  {
   "cell_type": "markdown",
   "metadata": {},
   "source": [
    "###### TODO E"
   ]
  },
  {
   "cell_type": "code",
   "execution_count": 105,
   "metadata": {},
   "outputs": [
    {
     "data": {
      "text/plain": [
       "(array([737425., 737485., 737546., 737607., 737669., 737730., 737791.,\n",
       "        737850., 737911.]),\n",
       " <a list of 9 Text major ticklabel objects>)"
      ]
     },
     "execution_count": 105,
     "metadata": {},
     "output_type": "execute_result"
    },
    {
     "data": {
      "image/png": "[encoded data removed]",
      "text/plain": [
       "<Figure size 576x432 with 1 Axes>"
      ]
     },
     "metadata": {},
     "output_type": "display_data"
    }
   ],
   "source": [
    "plt.figure(figsize=(8,6))\n",
    "Goal = sns.lineplot(data=NigGlobal).set_title('Rate of Progression of Covid-19 in Nigeria')\n",
    "plt.xticks(rotation=45)"
   ]
  },
  {
   "cell_type": "markdown",
   "metadata": {},
   "source": [
    "###### TODO F"
   ]
  },
  {
   "cell_type": "code",
   "execution_count": 106,
   "metadata": {},
   "outputs": [],
   "source": [
    "New = NigGlobal.diff()"
   ]
  },
  {
   "cell_type": "code",
   "execution_count": 107,
   "metadata": {},
   "outputs": [
    {
     "data": {
      "text/html": [
       "<div>\n",
       "<style scoped>\n",
       "    .dataframe tbody tr th:only-of-type {\n",
       "        vertical-align: middle;\n",
       "    }\n",
       "\n",
       "    .dataframe tbody tr th {\n",
       "        vertical-align: top;\n",
       "    }\n",
       "\n",
       "    .dataframe thead th {\n",
       "        text-align: right;\n",
       "    }\n",
       "</style>\n",
       "<table border=\"1\" class=\"dataframe\">\n",
       "  <thead>\n",
       "    <tr style=\"text-align: right;\">\n",
       "      <th></th>\n",
       "      <th>Confirmed</th>\n",
       "      <th>Deaths</th>\n",
       "      <th>Recovered</th>\n",
       "    </tr>\n",
       "    <tr>\n",
       "      <th>Dates</th>\n",
       "      <th></th>\n",
       "      <th></th>\n",
       "      <th></th>\n",
       "    </tr>\n",
       "  </thead>\n",
       "  <tbody>\n",
       "    <tr>\n",
       "      <th>2020-01-22</th>\n",
       "      <td>NaN</td>\n",
       "      <td>NaN</td>\n",
       "      <td>NaN</td>\n",
       "    </tr>\n",
       "    <tr>\n",
       "      <th>2020-01-23</th>\n",
       "      <td>0.0</td>\n",
       "      <td>0.0</td>\n",
       "      <td>0.0</td>\n",
       "    </tr>\n",
       "    <tr>\n",
       "      <th>2020-01-24</th>\n",
       "      <td>0.0</td>\n",
       "      <td>0.0</td>\n",
       "      <td>0.0</td>\n",
       "    </tr>\n",
       "    <tr>\n",
       "      <th>2020-01-25</th>\n",
       "      <td>0.0</td>\n",
       "      <td>0.0</td>\n",
       "      <td>0.0</td>\n",
       "    </tr>\n",
       "    <tr>\n",
       "      <th>2020-01-26</th>\n",
       "      <td>0.0</td>\n",
       "      <td>0.0</td>\n",
       "      <td>0.0</td>\n",
       "    </tr>\n",
       "    <tr>\n",
       "      <th>...</th>\n",
       "      <td>...</td>\n",
       "      <td>...</td>\n",
       "      <td>...</td>\n",
       "    </tr>\n",
       "    <tr>\n",
       "      <th>2021-05-29</th>\n",
       "      <td>31.0</td>\n",
       "      <td>0.0</td>\n",
       "      <td>11.0</td>\n",
       "    </tr>\n",
       "    <tr>\n",
       "      <th>2021-05-30</th>\n",
       "      <td>30.0</td>\n",
       "      <td>0.0</td>\n",
       "      <td>1.0</td>\n",
       "    </tr>\n",
       "    <tr>\n",
       "      <th>2021-05-31</th>\n",
       "      <td>203.0</td>\n",
       "      <td>28.0</td>\n",
       "      <td>2223.0</td>\n",
       "    </tr>\n",
       "    <tr>\n",
       "      <th>2021-06-01</th>\n",
       "      <td>16.0</td>\n",
       "      <td>0.0</td>\n",
       "      <td>1154.0</td>\n",
       "    </tr>\n",
       "    <tr>\n",
       "      <th>2021-06-02</th>\n",
       "      <td>26.0</td>\n",
       "      <td>0.0</td>\n",
       "      <td>11.0</td>\n",
       "    </tr>\n",
       "  </tbody>\n",
       "</table>\n",
       "<p>498 rows × 3 columns</p>\n",
       "</div>"
      ],
      "text/plain": [
       "            Confirmed  Deaths  Recovered\n",
       "Dates                                   \n",
       "2020-01-22        NaN     NaN        NaN\n",
       "2020-01-23        0.0     0.0        0.0\n",
       "2020-01-24        0.0     0.0        0.0\n",
       "2020-01-25        0.0     0.0        0.0\n",
       "2020-01-26        0.0     0.0        0.0\n",
       "...               ...     ...        ...\n",
       "2021-05-29       31.0     0.0       11.0\n",
       "2021-05-30       30.0     0.0        1.0\n",
       "2021-05-31      203.0    28.0     2223.0\n",
       "2021-06-01       16.0     0.0     1154.0\n",
       "2021-06-02       26.0     0.0       11.0\n",
       "\n",
       "[498 rows x 3 columns]"
      ]
     },
     "execution_count": 107,
     "metadata": {},
     "output_type": "execute_result"
    }
   ],
   "source": [
    "New"
   ]
  },
  {
   "cell_type": "code",
   "execution_count": 108,
   "metadata": {},
   "outputs": [
    {
     "data": {
      "text/plain": [
       "(array([737425., 737485., 737546., 737607., 737669., 737730., 737791.,\n",
       "        737850., 737911.]),\n",
       " <a list of 9 Text major ticklabel objects>)"
      ]
     },
     "execution_count": 108,
     "metadata": {},
     "output_type": "execute_result"
    },
    {
     "data": {
      "image/png": "[encoded data removed]",
      "text/plain": [
       "<Figure size 720x432 with 1 Axes>"
      ]
     },
     "metadata": {},
     "output_type": "display_data"
    }
   ],
   "source": [
    "plt.figure(figsize=(10,6))\n",
    "Goal2 = sns.lineplot(data=New).set_title('Difference of Covid-19 in Nigeria')\n",
    "plt.xticks(rotation=45)"
   ]
  },
  {
   "cell_type": "markdown",
   "metadata": {},
   "source": [
    "###### TODO G"
   ]
  },
  {
   "cell_type": "code",
   "execution_count": 109,
   "metadata": {},
   "outputs": [
    {
     "data": {
      "text/plain": [
       "Confirmed    2464.0\n",
       "Deaths         12.0\n",
       "Recovered    1771.0\n",
       "Name: 2021-01-23 00:00:00, dtype: float64"
      ]
     },
     "execution_count": 109,
     "metadata": {},
     "output_type": "execute_result"
    }
   ],
   "source": [
    "New.loc[New['Confirmed'].idxmax()]"
   ]
  },
  {
   "cell_type": "markdown",
   "metadata": {},
   "source": [
    "#####  Date of maximum infection rate is 23rd of January, 2021.\n"
   ]
  },
  {
   "cell_type": "markdown",
   "metadata": {},
   "source": [
    "###### TODO H"
   ]
  },
  {
   "cell_type": "code",
   "execution_count": 110,
   "metadata": {},
   "outputs": [],
   "source": [
    "#Merging the External and NCDC Dataset\n",
    "Compare = pd.merge(External, Covid, on='states', how='inner')"
   ]
  },
  {
   "cell_type": "code",
   "execution_count": 111,
   "metadata": {
    "scrolled": true
   },
   "outputs": [
    {
     "data": {
      "text/html": [
       "<div>\n",
       "<style scoped>\n",
       "    .dataframe tbody tr th:only-of-type {\n",
       "        vertical-align: middle;\n",
       "    }\n",
       "\n",
       "    .dataframe tbody tr th {\n",
       "        vertical-align: top;\n",
       "    }\n",
       "\n",
       "    .dataframe thead th {\n",
       "        text-align: right;\n",
       "    }\n",
       "</style>\n",
       "<table border=\"1\" class=\"dataframe\">\n",
       "  <thead>\n",
       "    <tr style=\"text-align: right;\">\n",
       "      <th></th>\n",
       "      <th>states</th>\n",
       "      <th>region</th>\n",
       "      <th>Population</th>\n",
       "      <th>Overall CCVI Index</th>\n",
       "      <th>Age</th>\n",
       "      <th>Epidemiological</th>\n",
       "      <th>Fragility</th>\n",
       "      <th>Health System</th>\n",
       "      <th>Population Density</th>\n",
       "      <th>Socio-Economic</th>\n",
       "      <th>Transport Availability</th>\n",
       "      <th>Acute IHR</th>\n",
       "      <th>Confirmed</th>\n",
       "      <th>Cases</th>\n",
       "      <th>Discharged</th>\n",
       "      <th>Deaths</th>\n",
       "    </tr>\n",
       "  </thead>\n",
       "  <tbody>\n",
       "    <tr>\n",
       "      <th>0</th>\n",
       "      <td>FCT</td>\n",
       "      <td>North Central</td>\n",
       "      <td>4865000</td>\n",
       "      <td>0.3</td>\n",
       "      <td>0.0</td>\n",
       "      <td>0.9</td>\n",
       "      <td>0.4</td>\n",
       "      <td>0.6</td>\n",
       "      <td>0.9</td>\n",
       "      <td>0.6</td>\n",
       "      <td>0.2</td>\n",
       "      <td>0.79</td>\n",
       "      <td>20063</td>\n",
       "      <td>151</td>\n",
       "      <td>19742</td>\n",
       "      <td>170</td>\n",
       "    </tr>\n",
       "    <tr>\n",
       "      <th>1</th>\n",
       "      <td>Plateau</td>\n",
       "      <td>North Central</td>\n",
       "      <td>4766000</td>\n",
       "      <td>0.4</td>\n",
       "      <td>0.5</td>\n",
       "      <td>0.4</td>\n",
       "      <td>0.8</td>\n",
       "      <td>0.3</td>\n",
       "      <td>0.3</td>\n",
       "      <td>0.5</td>\n",
       "      <td>0.3</td>\n",
       "      <td>0.93</td>\n",
       "      <td>9119</td>\n",
       "      <td>54</td>\n",
       "      <td>9008</td>\n",
       "      <td>57</td>\n",
       "    </tr>\n",
       "    <tr>\n",
       "      <th>2</th>\n",
       "      <td>Kwara</td>\n",
       "      <td>North Central</td>\n",
       "      <td>3524000</td>\n",
       "      <td>0.3</td>\n",
       "      <td>0.4</td>\n",
       "      <td>0.3</td>\n",
       "      <td>0.2</td>\n",
       "      <td>0.4</td>\n",
       "      <td>0.2</td>\n",
       "      <td>0.6</td>\n",
       "      <td>0.7</td>\n",
       "      <td>0.93</td>\n",
       "      <td>3264</td>\n",
       "      <td>141</td>\n",
       "      <td>3068</td>\n",
       "      <td>55</td>\n",
       "    </tr>\n",
       "    <tr>\n",
       "      <th>3</th>\n",
       "      <td>Nasarawa</td>\n",
       "      <td>North Central</td>\n",
       "      <td>2783000</td>\n",
       "      <td>0.1</td>\n",
       "      <td>0.3</td>\n",
       "      <td>0.5</td>\n",
       "      <td>0.9</td>\n",
       "      <td>0.0</td>\n",
       "      <td>0.1</td>\n",
       "      <td>0.6</td>\n",
       "      <td>0.5</td>\n",
       "      <td>0.85</td>\n",
       "      <td>2403</td>\n",
       "      <td>19</td>\n",
       "      <td>2345</td>\n",
       "      <td>39</td>\n",
       "    </tr>\n",
       "    <tr>\n",
       "      <th>4</th>\n",
       "      <td>Niger</td>\n",
       "      <td>North Central</td>\n",
       "      <td>6260000</td>\n",
       "      <td>0.6</td>\n",
       "      <td>0.0</td>\n",
       "      <td>0.6</td>\n",
       "      <td>0.3</td>\n",
       "      <td>0.7</td>\n",
       "      <td>0.1</td>\n",
       "      <td>0.8</td>\n",
       "      <td>0.8</td>\n",
       "      <td>0.84</td>\n",
       "      <td>961</td>\n",
       "      <td>27</td>\n",
       "      <td>914</td>\n",
       "      <td>20</td>\n",
       "    </tr>\n",
       "  </tbody>\n",
       "</table>\n",
       "</div>"
      ],
      "text/plain": [
       "     states         region  Population  Overall CCVI Index  Age  \\\n",
       "0       FCT  North Central     4865000                 0.3  0.0   \n",
       "1   Plateau  North Central     4766000                 0.4  0.5   \n",
       "2     Kwara  North Central     3524000                 0.3  0.4   \n",
       "3  Nasarawa  North Central     2783000                 0.1  0.3   \n",
       "4     Niger  North Central     6260000                 0.6  0.0   \n",
       "\n",
       "   Epidemiological  Fragility  Health System  Population Density  \\\n",
       "0              0.9        0.4            0.6                 0.9   \n",
       "1              0.4        0.8            0.3                 0.3   \n",
       "2              0.3        0.2            0.4                 0.2   \n",
       "3              0.5        0.9            0.0                 0.1   \n",
       "4              0.6        0.3            0.7                 0.1   \n",
       "\n",
       "   Socio-Economic   Transport Availability  Acute IHR  Confirmed  Cases  \\\n",
       "0             0.6                      0.2       0.79      20063    151   \n",
       "1             0.5                      0.3       0.93       9119     54   \n",
       "2             0.6                      0.7       0.93       3264    141   \n",
       "3             0.6                      0.5       0.85       2403     19   \n",
       "4             0.8                      0.8       0.84        961     27   \n",
       "\n",
       "   Discharged  Deaths  \n",
       "0       19742     170  \n",
       "1        9008      57  \n",
       "2        3068      55  \n",
       "3        2345      39  \n",
       "4         914      20  "
      ]
     },
     "execution_count": 111,
     "metadata": {},
     "output_type": "execute_result"
    }
   ],
   "source": [
    "Compare.head()"
   ]
  },
  {
   "cell_type": "code",
   "execution_count": 112,
   "metadata": {},
   "outputs": [],
   "source": [
    "Compared = Compare.nlargest(10, 'Confirmed')"
   ]
  },
  {
   "cell_type": "code",
   "execution_count": 113,
   "metadata": {},
   "outputs": [
    {
     "data": {
      "text/html": [
       "<div>\n",
       "<style scoped>\n",
       "    .dataframe tbody tr th:only-of-type {\n",
       "        vertical-align: middle;\n",
       "    }\n",
       "\n",
       "    .dataframe tbody tr th {\n",
       "        vertical-align: top;\n",
       "    }\n",
       "\n",
       "    .dataframe thead th {\n",
       "        text-align: right;\n",
       "    }\n",
       "</style>\n",
       "<table border=\"1\" class=\"dataframe\">\n",
       "  <thead>\n",
       "    <tr style=\"text-align: right;\">\n",
       "      <th></th>\n",
       "      <th>states</th>\n",
       "      <th>region</th>\n",
       "      <th>Population</th>\n",
       "      <th>Overall CCVI Index</th>\n",
       "      <th>Age</th>\n",
       "      <th>Epidemiological</th>\n",
       "      <th>Fragility</th>\n",
       "      <th>Health System</th>\n",
       "      <th>Population Density</th>\n",
       "      <th>Socio-Economic</th>\n",
       "      <th>Transport Availability</th>\n",
       "      <th>Acute IHR</th>\n",
       "      <th>Confirmed</th>\n",
       "      <th>Cases</th>\n",
       "      <th>Discharged</th>\n",
       "      <th>Deaths</th>\n",
       "    </tr>\n",
       "  </thead>\n",
       "  <tbody>\n",
       "    <tr>\n",
       "      <th>30</th>\n",
       "      <td>Lagos</td>\n",
       "      <td>South West</td>\n",
       "      <td>13992000</td>\n",
       "      <td>0.0</td>\n",
       "      <td>0.1</td>\n",
       "      <td>1.0</td>\n",
       "      <td>0.3</td>\n",
       "      <td>0.1</td>\n",
       "      <td>1.0</td>\n",
       "      <td>0.1</td>\n",
       "      <td>0.4</td>\n",
       "      <td>0.93</td>\n",
       "      <td>65609</td>\n",
       "      <td>6615</td>\n",
       "      <td>58529</td>\n",
       "      <td>465</td>\n",
       "    </tr>\n",
       "    <tr>\n",
       "      <th>0</th>\n",
       "      <td>FCT</td>\n",
       "      <td>North Central</td>\n",
       "      <td>4865000</td>\n",
       "      <td>0.3</td>\n",
       "      <td>0.0</td>\n",
       "      <td>0.9</td>\n",
       "      <td>0.4</td>\n",
       "      <td>0.6</td>\n",
       "      <td>0.9</td>\n",
       "      <td>0.6</td>\n",
       "      <td>0.2</td>\n",
       "      <td>0.79</td>\n",
       "      <td>20063</td>\n",
       "      <td>151</td>\n",
       "      <td>19742</td>\n",
       "      <td>170</td>\n",
       "    </tr>\n",
       "    <tr>\n",
       "      <th>14</th>\n",
       "      <td>Kaduna</td>\n",
       "      <td>North West</td>\n",
       "      <td>9227000</td>\n",
       "      <td>0.7</td>\n",
       "      <td>0.1</td>\n",
       "      <td>0.9</td>\n",
       "      <td>0.8</td>\n",
       "      <td>0.9</td>\n",
       "      <td>0.4</td>\n",
       "      <td>0.6</td>\n",
       "      <td>0.4</td>\n",
       "      <td>0.86</td>\n",
       "      <td>9194</td>\n",
       "      <td>37</td>\n",
       "      <td>9091</td>\n",
       "      <td>66</td>\n",
       "    </tr>\n",
       "    <tr>\n",
       "      <th>1</th>\n",
       "      <td>Plateau</td>\n",
       "      <td>North Central</td>\n",
       "      <td>4766000</td>\n",
       "      <td>0.4</td>\n",
       "      <td>0.5</td>\n",
       "      <td>0.4</td>\n",
       "      <td>0.8</td>\n",
       "      <td>0.3</td>\n",
       "      <td>0.3</td>\n",
       "      <td>0.5</td>\n",
       "      <td>0.3</td>\n",
       "      <td>0.93</td>\n",
       "      <td>9119</td>\n",
       "      <td>54</td>\n",
       "      <td>9008</td>\n",
       "      <td>57</td>\n",
       "    </tr>\n",
       "    <tr>\n",
       "      <th>25</th>\n",
       "      <td>Rivers</td>\n",
       "      <td>South South</td>\n",
       "      <td>7763000</td>\n",
       "      <td>0.4</td>\n",
       "      <td>0.5</td>\n",
       "      <td>0.9</td>\n",
       "      <td>0.6</td>\n",
       "      <td>0.6</td>\n",
       "      <td>0.9</td>\n",
       "      <td>0.1</td>\n",
       "      <td>0.1</td>\n",
       "      <td>1.00</td>\n",
       "      <td>7919</td>\n",
       "      <td>364</td>\n",
       "      <td>7453</td>\n",
       "      <td>102</td>\n",
       "    </tr>\n",
       "  </tbody>\n",
       "</table>\n",
       "</div>"
      ],
      "text/plain": [
       "     states         region  Population  Overall CCVI Index  Age  \\\n",
       "30    Lagos     South West    13992000                 0.0  0.1   \n",
       "0       FCT  North Central     4865000                 0.3  0.0   \n",
       "14   Kaduna     North West     9227000                 0.7  0.1   \n",
       "1   Plateau  North Central     4766000                 0.4  0.5   \n",
       "25   Rivers    South South     7763000                 0.4  0.5   \n",
       "\n",
       "    Epidemiological  Fragility  Health System  Population Density  \\\n",
       "30              1.0        0.3            0.1                 1.0   \n",
       "0               0.9        0.4            0.6                 0.9   \n",
       "14              0.9        0.8            0.9                 0.4   \n",
       "1               0.4        0.8            0.3                 0.3   \n",
       "25              0.9        0.6            0.6                 0.9   \n",
       "\n",
       "    Socio-Economic   Transport Availability  Acute IHR  Confirmed  Cases  \\\n",
       "30             0.1                      0.4       0.93      65609   6615   \n",
       "0              0.6                      0.2       0.79      20063    151   \n",
       "14             0.6                      0.4       0.86       9194     37   \n",
       "1              0.5                      0.3       0.93       9119     54   \n",
       "25             0.1                      0.1       1.00       7919    364   \n",
       "\n",
       "    Discharged  Deaths  \n",
       "30       58529     465  \n",
       "0        19742     170  \n",
       "14        9091      66  \n",
       "1         9008      57  \n",
       "25        7453     102  "
      ]
     },
     "execution_count": 113,
     "metadata": {},
     "output_type": "execute_result"
    }
   ],
   "source": [
    "Compared.head()"
   ]
  },
  {
   "cell_type": "code",
   "execution_count": 114,
   "metadata": {},
   "outputs": [
    {
     "data": {
      "text/plain": [
       "Text(0.5, 1.0, 'Relationship between Volatility and Confirmed Cases')"
      ]
     },
     "execution_count": 114,
     "metadata": {},
     "output_type": "execute_result"
    },
    {
     "data": {
      "image/png": "[encoded data removed]",
      "text/plain": [
       "<Figure size 432x288 with 1 Axes>"
      ]
     },
     "metadata": {},
     "output_type": "display_data"
    }
   ],
   "source": [
    "sns.lineplot(x='Overall CCVI Index', y='Confirmed', data=Compared).set_title('Relationship between Volatility and Confirmed Cases')"
   ]
  },
  {
   "cell_type": "markdown",
   "metadata": {},
   "source": [
    "###### TODO I"
   ]
  },
  {
   "cell_type": "code",
   "execution_count": 115,
   "metadata": {},
   "outputs": [
    {
     "data": {
      "text/plain": [
       "Text(0.5, 1.0, 'Relationship between the Population density and Infection')"
      ]
     },
     "execution_count": 115,
     "metadata": {},
     "output_type": "execute_result"
    },
    {
     "data": {
      "image/png": "[encoded data removed]",
      "text/plain": [
       "<Figure size 432x288 with 1 Axes>"
      ]
     },
     "metadata": {},
     "output_type": "display_data"
    }
   ],
   "source": [
    "sns.regplot(x='Population', y='Confirmed', data=Compared).set_title('Relationship between the Population density and Infection')"
   ]
  },
  {
   "cell_type": "markdown",
   "metadata": {},
   "source": [
    "###### TODO J"
   ]
  },
  {
   "cell_type": "code",
   "execution_count": 116,
   "metadata": {},
   "outputs": [
    {
     "data": {
      "text/plain": [
       "Confirmed    490.0\n",
       "Deaths        31.0\n",
       "Recovered    274.0\n",
       "Name: 2020-06-16 00:00:00, dtype: float64"
      ]
     },
     "execution_count": 116,
     "metadata": {},
     "output_type": "execute_result"
    }
   ],
   "source": [
    "#Provide more analyses on TODO G & H - More relationships\n",
    "New.loc[New['Deaths'].idxmax()]"
   ]
  },
  {
   "cell_type": "code",
   "execution_count": 117,
   "metadata": {},
   "outputs": [
    {
     "data": {
      "text/plain": [
       "Confirmed      304.0\n",
       "Deaths          14.0\n",
       "Recovered    11188.0\n",
       "Name: 2020-08-04 00:00:00, dtype: float64"
      ]
     },
     "execution_count": 117,
     "metadata": {},
     "output_type": "execute_result"
    }
   ],
   "source": [
    "New.loc[New['Recovered'].idxmax()]"
   ]
  },
  {
   "cell_type": "markdown",
   "metadata": {},
   "source": [
    "###### Dates of Maximum Deaths and Recovery are 16th June and 4th August respectively."
   ]
  },
  {
   "cell_type": "code",
   "execution_count": 118,
   "metadata": {},
   "outputs": [
    {
     "data": {
      "text/html": [
       "<div>\n",
       "<style scoped>\n",
       "    .dataframe tbody tr th:only-of-type {\n",
       "        vertical-align: middle;\n",
       "    }\n",
       "\n",
       "    .dataframe tbody tr th {\n",
       "        vertical-align: top;\n",
       "    }\n",
       "\n",
       "    .dataframe thead th {\n",
       "        text-align: right;\n",
       "    }\n",
       "</style>\n",
       "<table border=\"1\" class=\"dataframe\">\n",
       "  <thead>\n",
       "    <tr style=\"text-align: right;\">\n",
       "      <th></th>\n",
       "      <th>states</th>\n",
       "      <th>region</th>\n",
       "      <th>Population</th>\n",
       "      <th>Overall CCVI Index</th>\n",
       "      <th>Age</th>\n",
       "      <th>Epidemiological</th>\n",
       "      <th>Fragility</th>\n",
       "      <th>Health System</th>\n",
       "      <th>Population Density</th>\n",
       "      <th>Socio-Economic</th>\n",
       "      <th>Transport Availability</th>\n",
       "      <th>Acute IHR</th>\n",
       "      <th>Confirmed</th>\n",
       "      <th>Cases</th>\n",
       "      <th>Discharged</th>\n",
       "      <th>Deaths</th>\n",
       "    </tr>\n",
       "  </thead>\n",
       "  <tbody>\n",
       "    <tr>\n",
       "      <th>30</th>\n",
       "      <td>Lagos</td>\n",
       "      <td>South West</td>\n",
       "      <td>13992000</td>\n",
       "      <td>0.0</td>\n",
       "      <td>0.1</td>\n",
       "      <td>1.0</td>\n",
       "      <td>0.3</td>\n",
       "      <td>0.1</td>\n",
       "      <td>1.0</td>\n",
       "      <td>0.1</td>\n",
       "      <td>0.4</td>\n",
       "      <td>0.93</td>\n",
       "      <td>65609</td>\n",
       "      <td>6615</td>\n",
       "      <td>58529</td>\n",
       "      <td>465</td>\n",
       "    </tr>\n",
       "    <tr>\n",
       "      <th>24</th>\n",
       "      <td>Edo</td>\n",
       "      <td>South South</td>\n",
       "      <td>4705000</td>\n",
       "      <td>0.1</td>\n",
       "      <td>0.9</td>\n",
       "      <td>0.8</td>\n",
       "      <td>0.1</td>\n",
       "      <td>0.1</td>\n",
       "      <td>0.5</td>\n",
       "      <td>0.4</td>\n",
       "      <td>0.3</td>\n",
       "      <td>1.09</td>\n",
       "      <td>4962</td>\n",
       "      <td>22</td>\n",
       "      <td>4755</td>\n",
       "      <td>185</td>\n",
       "    </tr>\n",
       "    <tr>\n",
       "      <th>0</th>\n",
       "      <td>FCT</td>\n",
       "      <td>North Central</td>\n",
       "      <td>4865000</td>\n",
       "      <td>0.3</td>\n",
       "      <td>0.0</td>\n",
       "      <td>0.9</td>\n",
       "      <td>0.4</td>\n",
       "      <td>0.6</td>\n",
       "      <td>0.9</td>\n",
       "      <td>0.6</td>\n",
       "      <td>0.2</td>\n",
       "      <td>0.79</td>\n",
       "      <td>20063</td>\n",
       "      <td>151</td>\n",
       "      <td>19742</td>\n",
       "      <td>170</td>\n",
       "    </tr>\n",
       "    <tr>\n",
       "      <th>31</th>\n",
       "      <td>Oyo</td>\n",
       "      <td>South West</td>\n",
       "      <td>8737000</td>\n",
       "      <td>0.2</td>\n",
       "      <td>0.7</td>\n",
       "      <td>0.8</td>\n",
       "      <td>0.2</td>\n",
       "      <td>0.8</td>\n",
       "      <td>0.6</td>\n",
       "      <td>0.2</td>\n",
       "      <td>0.3</td>\n",
       "      <td>1.06</td>\n",
       "      <td>7315</td>\n",
       "      <td>364</td>\n",
       "      <td>6812</td>\n",
       "      <td>139</td>\n",
       "    </tr>\n",
       "    <tr>\n",
       "      <th>13</th>\n",
       "      <td>Kano</td>\n",
       "      <td>North West</td>\n",
       "      <td>14726000</td>\n",
       "      <td>0.6</td>\n",
       "      <td>0.2</td>\n",
       "      <td>0.1</td>\n",
       "      <td>0.3</td>\n",
       "      <td>0.4</td>\n",
       "      <td>0.8</td>\n",
       "      <td>0.8</td>\n",
       "      <td>0.5</td>\n",
       "      <td>0.87</td>\n",
       "      <td>4031</td>\n",
       "      <td>23</td>\n",
       "      <td>3898</td>\n",
       "      <td>110</td>\n",
       "    </tr>\n",
       "    <tr>\n",
       "      <th>25</th>\n",
       "      <td>Rivers</td>\n",
       "      <td>South South</td>\n",
       "      <td>7763000</td>\n",
       "      <td>0.4</td>\n",
       "      <td>0.5</td>\n",
       "      <td>0.9</td>\n",
       "      <td>0.6</td>\n",
       "      <td>0.6</td>\n",
       "      <td>0.9</td>\n",
       "      <td>0.1</td>\n",
       "      <td>0.1</td>\n",
       "      <td>1.00</td>\n",
       "      <td>7919</td>\n",
       "      <td>364</td>\n",
       "      <td>7453</td>\n",
       "      <td>102</td>\n",
       "    </tr>\n",
       "    <tr>\n",
       "      <th>26</th>\n",
       "      <td>Delta</td>\n",
       "      <td>South South</td>\n",
       "      <td>6303000</td>\n",
       "      <td>0.4</td>\n",
       "      <td>0.6</td>\n",
       "      <td>0.7</td>\n",
       "      <td>0.2</td>\n",
       "      <td>1.0</td>\n",
       "      <td>0.6</td>\n",
       "      <td>0.5</td>\n",
       "      <td>0.4</td>\n",
       "      <td>1.08</td>\n",
       "      <td>2691</td>\n",
       "      <td>63</td>\n",
       "      <td>2556</td>\n",
       "      <td>72</td>\n",
       "    </tr>\n",
       "    <tr>\n",
       "      <th>33</th>\n",
       "      <td>Ondo</td>\n",
       "      <td>South West</td>\n",
       "      <td>5185000</td>\n",
       "      <td>0.1</td>\n",
       "      <td>0.8</td>\n",
       "      <td>0.5</td>\n",
       "      <td>0.1</td>\n",
       "      <td>0.3</td>\n",
       "      <td>0.6</td>\n",
       "      <td>0.3</td>\n",
       "      <td>0.3</td>\n",
       "      <td>1.04</td>\n",
       "      <td>3607</td>\n",
       "      <td>85</td>\n",
       "      <td>3455</td>\n",
       "      <td>67</td>\n",
       "    </tr>\n",
       "    <tr>\n",
       "      <th>14</th>\n",
       "      <td>Kaduna</td>\n",
       "      <td>North West</td>\n",
       "      <td>9227000</td>\n",
       "      <td>0.7</td>\n",
       "      <td>0.1</td>\n",
       "      <td>0.9</td>\n",
       "      <td>0.8</td>\n",
       "      <td>0.9</td>\n",
       "      <td>0.4</td>\n",
       "      <td>0.6</td>\n",
       "      <td>0.4</td>\n",
       "      <td>0.86</td>\n",
       "      <td>9194</td>\n",
       "      <td>37</td>\n",
       "      <td>9091</td>\n",
       "      <td>66</td>\n",
       "    </tr>\n",
       "    <tr>\n",
       "      <th>32</th>\n",
       "      <td>Ogun</td>\n",
       "      <td>South West</td>\n",
       "      <td>5878000</td>\n",
       "      <td>0.3</td>\n",
       "      <td>0.6</td>\n",
       "      <td>0.7</td>\n",
       "      <td>0.5</td>\n",
       "      <td>0.6</td>\n",
       "      <td>0.6</td>\n",
       "      <td>0.0</td>\n",
       "      <td>0.2</td>\n",
       "      <td>1.07</td>\n",
       "      <td>4844</td>\n",
       "      <td>111</td>\n",
       "      <td>4674</td>\n",
       "      <td>59</td>\n",
       "    </tr>\n",
       "  </tbody>\n",
       "</table>\n",
       "</div>"
      ],
      "text/plain": [
       "    states         region  Population  Overall CCVI Index  Age  \\\n",
       "30   Lagos     South West    13992000                 0.0  0.1   \n",
       "24     Edo    South South     4705000                 0.1  0.9   \n",
       "0      FCT  North Central     4865000                 0.3  0.0   \n",
       "31     Oyo     South West     8737000                 0.2  0.7   \n",
       "13    Kano     North West    14726000                 0.6  0.2   \n",
       "25  Rivers    South South     7763000                 0.4  0.5   \n",
       "26   Delta    South South     6303000                 0.4  0.6   \n",
       "33    Ondo     South West     5185000                 0.1  0.8   \n",
       "14  Kaduna     North West     9227000                 0.7  0.1   \n",
       "32    Ogun     South West     5878000                 0.3  0.6   \n",
       "\n",
       "    Epidemiological  Fragility  Health System  Population Density  \\\n",
       "30              1.0        0.3            0.1                 1.0   \n",
       "24              0.8        0.1            0.1                 0.5   \n",
       "0               0.9        0.4            0.6                 0.9   \n",
       "31              0.8        0.2            0.8                 0.6   \n",
       "13              0.1        0.3            0.4                 0.8   \n",
       "25              0.9        0.6            0.6                 0.9   \n",
       "26              0.7        0.2            1.0                 0.6   \n",
       "33              0.5        0.1            0.3                 0.6   \n",
       "14              0.9        0.8            0.9                 0.4   \n",
       "32              0.7        0.5            0.6                 0.6   \n",
       "\n",
       "    Socio-Economic   Transport Availability  Acute IHR  Confirmed  Cases  \\\n",
       "30             0.1                      0.4       0.93      65609   6615   \n",
       "24             0.4                      0.3       1.09       4962     22   \n",
       "0              0.6                      0.2       0.79      20063    151   \n",
       "31             0.2                      0.3       1.06       7315    364   \n",
       "13             0.8                      0.5       0.87       4031     23   \n",
       "25             0.1                      0.1       1.00       7919    364   \n",
       "26             0.5                      0.4       1.08       2691     63   \n",
       "33             0.3                      0.3       1.04       3607     85   \n",
       "14             0.6                      0.4       0.86       9194     37   \n",
       "32             0.0                      0.2       1.07       4844    111   \n",
       "\n",
       "    Discharged  Deaths  \n",
       "30       58529     465  \n",
       "24        4755     185  \n",
       "0        19742     170  \n",
       "31        6812     139  \n",
       "13        3898     110  \n",
       "25        7453     102  \n",
       "26        2556      72  \n",
       "33        3455      67  \n",
       "14        9091      66  \n",
       "32        4674      59  "
      ]
     },
     "execution_count": 118,
     "metadata": {},
     "output_type": "execute_result"
    }
   ],
   "source": [
    "Compared1 = Compare.nlargest(10, 'Deaths')\n",
    "Compared1"
   ]
  },
  {
   "cell_type": "code",
   "execution_count": 119,
   "metadata": {},
   "outputs": [
    {
     "data": {
      "text/plain": [
       "(array([0, 1, 2, 3, 4, 5]), <a list of 6 Text major ticklabel objects>)"
      ]
     },
     "execution_count": 119,
     "metadata": {},
     "output_type": "execute_result"
    },
    {
     "data": {
      "image/png": "[encoded data removed]",
      "text/plain": [
       "<Figure size 432x288 with 1 Axes>"
      ]
     },
     "metadata": {},
     "output_type": "display_data"
    }
   ],
   "source": [
    "sns.barplot(x='region', y='Confirmed', data=Compare).set_title('Relationship between Regions and Confirmed Cases')\n",
    "plt.xticks(rotation=45)"
   ]
  },
  {
   "cell_type": "code",
   "execution_count": 120,
   "metadata": {},
   "outputs": [
    {
     "data": {
      "text/plain": [
       "(array([0, 1, 2, 3, 4, 5]), <a list of 6 Text major ticklabel objects>)"
      ]
     },
     "execution_count": 120,
     "metadata": {},
     "output_type": "execute_result"
    },
    {
     "data": {
      "image/png": "[encoded data removed]",
      "text/plain": [
       "<Figure size 432x288 with 1 Axes>"
      ]
     },
     "metadata": {},
     "output_type": "display_data"
    }
   ],
   "source": [
    "sns.barplot(x='region', y='Deaths', data=Compare).set_title('Relationship between Regions and Deaths')\n",
    "plt.xticks(rotation=45)"
   ]
  },
  {
   "cell_type": "markdown",
   "metadata": {},
   "source": [
    "###### From the above charts, North East appears to have been affected least while the South East appears to have the least death cases with the South West maintaining high rates in both situations."
   ]
  },
  {
   "cell_type": "code",
   "execution_count": 121,
   "metadata": {},
   "outputs": [
    {
     "data": {
      "text/plain": [
       "Text(0.5, 1.0, 'Relationship between Age and Confirmed Cases')"
      ]
     },
     "execution_count": 121,
     "metadata": {},
     "output_type": "execute_result"
    },
    {
     "data": {
      "image/png": "[encoded data removed]",
      "text/plain": [
       "<Figure size 432x288 with 1 Axes>"
      ]
     },
     "metadata": {},
     "output_type": "display_data"
    }
   ],
   "source": [
    "sns.lineplot(x='Age', y='Confirmed', data=Compared).set_title('Relationship between Age and Confirmed Cases')"
   ]
  },
  {
   "cell_type": "markdown",
   "metadata": {},
   "source": [
    "###### TODO L"
   ]
  },
  {
   "cell_type": "code",
   "execution_count": 122,
   "metadata": {},
   "outputs": [
    {
     "data": {
      "text/html": [
       "<div>\n",
       "<style scoped>\n",
       "    .dataframe tbody tr th:only-of-type {\n",
       "        vertical-align: middle;\n",
       "    }\n",
       "\n",
       "    .dataframe tbody tr th {\n",
       "        vertical-align: top;\n",
       "    }\n",
       "\n",
       "    .dataframe thead th {\n",
       "        text-align: right;\n",
       "    }\n",
       "</style>\n",
       "<table border=\"1\" class=\"dataframe\">\n",
       "  <thead>\n",
       "    <tr style=\"text-align: right;\">\n",
       "      <th></th>\n",
       "      <th>Year</th>\n",
       "      <th>Q1</th>\n",
       "      <th>Q2</th>\n",
       "      <th>Q3</th>\n",
       "      <th>Q4</th>\n",
       "    </tr>\n",
       "  </thead>\n",
       "  <tbody>\n",
       "    <tr>\n",
       "      <th>0</th>\n",
       "      <td>2014</td>\n",
       "      <td>15438679.50</td>\n",
       "      <td>16084622.31</td>\n",
       "      <td>17479127.58</td>\n",
       "      <td>18150356.45</td>\n",
       "    </tr>\n",
       "    <tr>\n",
       "      <th>1</th>\n",
       "      <td>2015</td>\n",
       "      <td>16050601.38</td>\n",
       "      <td>16463341.91</td>\n",
       "      <td>17976234.59</td>\n",
       "      <td>18533752.07</td>\n",
       "    </tr>\n",
       "    <tr>\n",
       "      <th>2</th>\n",
       "      <td>2016</td>\n",
       "      <td>15943714.54</td>\n",
       "      <td>16218542.41</td>\n",
       "      <td>17555441.69</td>\n",
       "      <td>18213537.29</td>\n",
       "    </tr>\n",
       "    <tr>\n",
       "      <th>3</th>\n",
       "      <td>2017</td>\n",
       "      <td>15797965.83</td>\n",
       "      <td>16334719.27</td>\n",
       "      <td>17760228.17</td>\n",
       "      <td>18598067.07</td>\n",
       "    </tr>\n",
       "    <tr>\n",
       "      <th>4</th>\n",
       "      <td>2018</td>\n",
       "      <td>16096654.19</td>\n",
       "      <td>16580508.07</td>\n",
       "      <td>18081342.10</td>\n",
       "      <td>19041437.59</td>\n",
       "    </tr>\n",
       "    <tr>\n",
       "      <th>5</th>\n",
       "      <td>2019</td>\n",
       "      <td>16434552.65</td>\n",
       "      <td>16931434.89</td>\n",
       "      <td>18494114.17</td>\n",
       "      <td>19530000.00</td>\n",
       "    </tr>\n",
       "    <tr>\n",
       "      <th>6</th>\n",
       "      <td>2020</td>\n",
       "      <td>16740000.00</td>\n",
       "      <td>15890000.00</td>\n",
       "      <td>17820000.00</td>\n",
       "      <td>0.00</td>\n",
       "    </tr>\n",
       "  </tbody>\n",
       "</table>\n",
       "</div>"
      ],
      "text/plain": [
       "   Year           Q1           Q2           Q3           Q4\n",
       "0  2014  15438679.50  16084622.31  17479127.58  18150356.45\n",
       "1  2015  16050601.38  16463341.91  17976234.59  18533752.07\n",
       "2  2016  15943714.54  16218542.41  17555441.69  18213537.29\n",
       "3  2017  15797965.83  16334719.27  17760228.17  18598067.07\n",
       "4  2018  16096654.19  16580508.07  18081342.10  19041437.59\n",
       "5  2019  16434552.65  16931434.89  18494114.17  19530000.00\n",
       "6  2020  16740000.00  15890000.00  17820000.00         0.00"
      ]
     },
     "execution_count": 122,
     "metadata": {},
     "output_type": "execute_result"
    }
   ],
   "source": [
    "GDP"
   ]
  },
  {
   "cell_type": "code",
   "execution_count": 123,
   "metadata": {},
   "outputs": [
    {
     "data": {
      "text/html": [
       "<div>\n",
       "<style scoped>\n",
       "    .dataframe tbody tr th:only-of-type {\n",
       "        vertical-align: middle;\n",
       "    }\n",
       "\n",
       "    .dataframe tbody tr th {\n",
       "        vertical-align: top;\n",
       "    }\n",
       "\n",
       "    .dataframe thead th {\n",
       "        text-align: right;\n",
       "    }\n",
       "</style>\n",
       "<table border=\"1\" class=\"dataframe\">\n",
       "  <thead>\n",
       "    <tr style=\"text-align: right;\">\n",
       "      <th></th>\n",
       "      <th>Year</th>\n",
       "      <th>variable</th>\n",
       "      <th>value</th>\n",
       "    </tr>\n",
       "  </thead>\n",
       "  <tbody>\n",
       "    <tr>\n",
       "      <th>0</th>\n",
       "      <td>2014</td>\n",
       "      <td>Q1</td>\n",
       "      <td>15438679.50</td>\n",
       "    </tr>\n",
       "    <tr>\n",
       "      <th>1</th>\n",
       "      <td>2015</td>\n",
       "      <td>Q1</td>\n",
       "      <td>16050601.38</td>\n",
       "    </tr>\n",
       "    <tr>\n",
       "      <th>2</th>\n",
       "      <td>2016</td>\n",
       "      <td>Q1</td>\n",
       "      <td>15943714.54</td>\n",
       "    </tr>\n",
       "    <tr>\n",
       "      <th>3</th>\n",
       "      <td>2017</td>\n",
       "      <td>Q1</td>\n",
       "      <td>15797965.83</td>\n",
       "    </tr>\n",
       "    <tr>\n",
       "      <th>4</th>\n",
       "      <td>2018</td>\n",
       "      <td>Q1</td>\n",
       "      <td>16096654.19</td>\n",
       "    </tr>\n",
       "  </tbody>\n",
       "</table>\n",
       "</div>"
      ],
      "text/plain": [
       "   Year variable        value\n",
       "0  2014       Q1  15438679.50\n",
       "1  2015       Q1  16050601.38\n",
       "2  2016       Q1  15943714.54\n",
       "3  2017       Q1  15797965.83\n",
       "4  2018       Q1  16096654.19"
      ]
     },
     "execution_count": 123,
     "metadata": {},
     "output_type": "execute_result"
    }
   ],
   "source": [
    "GDP_Melt = pd.melt(GDP, id_vars=['Year'], value_vars=['Q1', 'Q2', 'Q3', 'Q4'])\n",
    "GDP_Melt.head()"
   ]
  },
  {
   "cell_type": "code",
   "execution_count": 124,
   "metadata": {},
   "outputs": [
    {
     "data": {
      "text/html": [
       "<div>\n",
       "<style scoped>\n",
       "    .dataframe tbody tr th:only-of-type {\n",
       "        vertical-align: middle;\n",
       "    }\n",
       "\n",
       "    .dataframe tbody tr th {\n",
       "        vertical-align: top;\n",
       "    }\n",
       "\n",
       "    .dataframe thead th {\n",
       "        text-align: right;\n",
       "    }\n",
       "</style>\n",
       "<table border=\"1\" class=\"dataframe\">\n",
       "  <thead>\n",
       "    <tr style=\"text-align: right;\">\n",
       "      <th></th>\n",
       "      <th>Year</th>\n",
       "      <th>variable</th>\n",
       "      <th>value</th>\n",
       "    </tr>\n",
       "  </thead>\n",
       "  <tbody>\n",
       "    <tr>\n",
       "      <th>0</th>\n",
       "      <td>2014</td>\n",
       "      <td>Q1</td>\n",
       "      <td>15438679.50</td>\n",
       "    </tr>\n",
       "    <tr>\n",
       "      <th>1</th>\n",
       "      <td>2015</td>\n",
       "      <td>Q1</td>\n",
       "      <td>16050601.38</td>\n",
       "    </tr>\n",
       "    <tr>\n",
       "      <th>2</th>\n",
       "      <td>2016</td>\n",
       "      <td>Q1</td>\n",
       "      <td>15943714.54</td>\n",
       "    </tr>\n",
       "    <tr>\n",
       "      <th>3</th>\n",
       "      <td>2017</td>\n",
       "      <td>Q1</td>\n",
       "      <td>15797965.83</td>\n",
       "    </tr>\n",
       "    <tr>\n",
       "      <th>4</th>\n",
       "      <td>2018</td>\n",
       "      <td>Q1</td>\n",
       "      <td>16096654.19</td>\n",
       "    </tr>\n",
       "    <tr>\n",
       "      <th>5</th>\n",
       "      <td>2019</td>\n",
       "      <td>Q1</td>\n",
       "      <td>16434552.65</td>\n",
       "    </tr>\n",
       "    <tr>\n",
       "      <th>6</th>\n",
       "      <td>2020</td>\n",
       "      <td>Q1</td>\n",
       "      <td>16740000.00</td>\n",
       "    </tr>\n",
       "    <tr>\n",
       "      <th>7</th>\n",
       "      <td>2014</td>\n",
       "      <td>Q2</td>\n",
       "      <td>16084622.31</td>\n",
       "    </tr>\n",
       "    <tr>\n",
       "      <th>8</th>\n",
       "      <td>2015</td>\n",
       "      <td>Q2</td>\n",
       "      <td>16463341.91</td>\n",
       "    </tr>\n",
       "    <tr>\n",
       "      <th>9</th>\n",
       "      <td>2016</td>\n",
       "      <td>Q2</td>\n",
       "      <td>16218542.41</td>\n",
       "    </tr>\n",
       "    <tr>\n",
       "      <th>10</th>\n",
       "      <td>2017</td>\n",
       "      <td>Q2</td>\n",
       "      <td>16334719.27</td>\n",
       "    </tr>\n",
       "    <tr>\n",
       "      <th>11</th>\n",
       "      <td>2018</td>\n",
       "      <td>Q2</td>\n",
       "      <td>16580508.07</td>\n",
       "    </tr>\n",
       "    <tr>\n",
       "      <th>12</th>\n",
       "      <td>2019</td>\n",
       "      <td>Q2</td>\n",
       "      <td>16931434.89</td>\n",
       "    </tr>\n",
       "    <tr>\n",
       "      <th>13</th>\n",
       "      <td>2020</td>\n",
       "      <td>Q2</td>\n",
       "      <td>15890000.00</td>\n",
       "    </tr>\n",
       "    <tr>\n",
       "      <th>14</th>\n",
       "      <td>2014</td>\n",
       "      <td>Q3</td>\n",
       "      <td>17479127.58</td>\n",
       "    </tr>\n",
       "    <tr>\n",
       "      <th>15</th>\n",
       "      <td>2015</td>\n",
       "      <td>Q3</td>\n",
       "      <td>17976234.59</td>\n",
       "    </tr>\n",
       "    <tr>\n",
       "      <th>16</th>\n",
       "      <td>2016</td>\n",
       "      <td>Q3</td>\n",
       "      <td>17555441.69</td>\n",
       "    </tr>\n",
       "    <tr>\n",
       "      <th>17</th>\n",
       "      <td>2017</td>\n",
       "      <td>Q3</td>\n",
       "      <td>17760228.17</td>\n",
       "    </tr>\n",
       "    <tr>\n",
       "      <th>18</th>\n",
       "      <td>2018</td>\n",
       "      <td>Q3</td>\n",
       "      <td>18081342.10</td>\n",
       "    </tr>\n",
       "    <tr>\n",
       "      <th>19</th>\n",
       "      <td>2019</td>\n",
       "      <td>Q3</td>\n",
       "      <td>18494114.17</td>\n",
       "    </tr>\n",
       "    <tr>\n",
       "      <th>20</th>\n",
       "      <td>2020</td>\n",
       "      <td>Q3</td>\n",
       "      <td>17820000.00</td>\n",
       "    </tr>\n",
       "    <tr>\n",
       "      <th>21</th>\n",
       "      <td>2014</td>\n",
       "      <td>Q4</td>\n",
       "      <td>18150356.45</td>\n",
       "    </tr>\n",
       "    <tr>\n",
       "      <th>22</th>\n",
       "      <td>2015</td>\n",
       "      <td>Q4</td>\n",
       "      <td>18533752.07</td>\n",
       "    </tr>\n",
       "    <tr>\n",
       "      <th>23</th>\n",
       "      <td>2016</td>\n",
       "      <td>Q4</td>\n",
       "      <td>18213537.29</td>\n",
       "    </tr>\n",
       "    <tr>\n",
       "      <th>24</th>\n",
       "      <td>2017</td>\n",
       "      <td>Q4</td>\n",
       "      <td>18598067.07</td>\n",
       "    </tr>\n",
       "    <tr>\n",
       "      <th>25</th>\n",
       "      <td>2018</td>\n",
       "      <td>Q4</td>\n",
       "      <td>19041437.59</td>\n",
       "    </tr>\n",
       "    <tr>\n",
       "      <th>26</th>\n",
       "      <td>2019</td>\n",
       "      <td>Q4</td>\n",
       "      <td>19530000.00</td>\n",
       "    </tr>\n",
       "    <tr>\n",
       "      <th>27</th>\n",
       "      <td>2020</td>\n",
       "      <td>Q4</td>\n",
       "      <td>0.00</td>\n",
       "    </tr>\n",
       "  </tbody>\n",
       "</table>\n",
       "</div>"
      ],
      "text/plain": [
       "    Year variable        value\n",
       "0   2014       Q1  15438679.50\n",
       "1   2015       Q1  16050601.38\n",
       "2   2016       Q1  15943714.54\n",
       "3   2017       Q1  15797965.83\n",
       "4   2018       Q1  16096654.19\n",
       "5   2019       Q1  16434552.65\n",
       "6   2020       Q1  16740000.00\n",
       "7   2014       Q2  16084622.31\n",
       "8   2015       Q2  16463341.91\n",
       "9   2016       Q2  16218542.41\n",
       "10  2017       Q2  16334719.27\n",
       "11  2018       Q2  16580508.07\n",
       "12  2019       Q2  16931434.89\n",
       "13  2020       Q2  15890000.00\n",
       "14  2014       Q3  17479127.58\n",
       "15  2015       Q3  17976234.59\n",
       "16  2016       Q3  17555441.69\n",
       "17  2017       Q3  17760228.17\n",
       "18  2018       Q3  18081342.10\n",
       "19  2019       Q3  18494114.17\n",
       "20  2020       Q3  17820000.00\n",
       "21  2014       Q4  18150356.45\n",
       "22  2015       Q4  18533752.07\n",
       "23  2016       Q4  18213537.29\n",
       "24  2017       Q4  18598067.07\n",
       "25  2018       Q4  19041437.59\n",
       "26  2019       Q4  19530000.00\n",
       "27  2020       Q4         0.00"
      ]
     },
     "execution_count": 124,
     "metadata": {},
     "output_type": "execute_result"
    }
   ],
   "source": [
    "GDP_Melt"
   ]
  },
  {
   "cell_type": "code",
   "execution_count": 125,
   "metadata": {},
   "outputs": [
    {
     "data": {
      "text/plain": [
       "<matplotlib.legend.Legend at 0xe67f1f0>"
      ]
     },
     "execution_count": 125,
     "metadata": {},
     "output_type": "execute_result"
    },
    {
     "data": {
      "image/png": "[encoded data removed]",
      "text/plain": [
       "<Figure size 720x432 with 1 Axes>"
      ]
     },
     "metadata": {},
     "output_type": "display_data"
    }
   ],
   "source": [
    "plt.figure(figsize=(10,6))\n",
    "sns.barplot(x= 'Year', y='value', hue= 'variable', data=GDP_Melt).set_title('Annual GDP Data for Nigeria')\n",
    "plt.axhline(y=15890000.00, color='black')\n",
    "plt.legend(loc='lower left')"
   ]
  },
  {
   "cell_type": "code",
   "execution_count": null,
   "metadata": {},
   "outputs": [],
   "source": []
  }
 ],
 "metadata": {
  "kernelspec": {
   "display_name": "Python 3",
   "language": "python",
   "name": "python3"
  },
  "language_info": {
   "codemirror_mode": {
    "name": "ipython",
    "version": 3
   },
   "file_extension": ".py",
   "mimetype": "text/x-python",
   "name": "python",
   "nbconvert_exporter": "python",
   "pygments_lexer": "ipython3",
   "version": "3.8.3"
  }
 },
 "nbformat": 4,
 "nbformat_minor": 4
}
